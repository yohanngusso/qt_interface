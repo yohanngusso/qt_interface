{
 "cells": [
  {
   "cell_type": "code",
   "execution_count": 1,
   "id": "38f1841c",
   "metadata": {},
   "outputs": [],
   "source": [
    "from pandas import DataFrame, read_csv"
   ]
  },
  {
   "cell_type": "code",
   "execution_count": 2,
   "id": "b05a44dd",
   "metadata": {},
   "outputs": [
    {
     "name": "stderr",
     "output_type": "stream",
     "text": [
      "/tmp/ipykernel_9410/1360264097.py:1: DtypeWarning: Columns (333,338,352,356) have mixed types. Specify dtype option on import or set low_memory=False.\n",
      "  df = read_csv('bases/psf_jetbrains.csv')\n"
     ]
    }
   ],
   "source": [
    "df = read_csv('bases/psf_jetbrains.csv')"
   ]
  },
  {
   "cell_type": "code",
   "execution_count": 9,
   "id": "2b6806ba",
   "metadata": {},
   "outputs": [
    {
     "data": {
      "text/plain": [
       "23616"
      ]
     },
     "execution_count": 9,
     "metadata": {},
     "output_type": "execute_result"
    }
   ],
   "source": [
    "len(df)"
   ]
  }
 ],
 "metadata": {
  "kernelspec": {
   "display_name": "Python 3 (ipykernel)",
   "language": "python",
   "name": "python3"
  },
  "language_info": {
   "codemirror_mode": {
    "name": "ipython",
    "version": 3
   },
   "file_extension": ".py",
   "mimetype": "text/x-python",
   "name": "python",
   "nbconvert_exporter": "python",
   "pygments_lexer": "ipython3",
   "version": "3.10.5"
  }
 },
 "nbformat": 4,
 "nbformat_minor": 5
}
