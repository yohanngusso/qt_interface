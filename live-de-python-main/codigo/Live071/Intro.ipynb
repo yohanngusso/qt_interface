{
 "cells": [
  {
   "cell_type": "markdown",
   "metadata": {},
   "source": [
    "# Live de Python #71\n",
    "## Hélio de Meira Lins - Software Engineer @ Eólica Tecnologia - Recife\n",
    "### twitter: @heliomeiralins\n",
    "### github/gitlab: @meiralins\n",
    "### email: helio@meiralins.org"
   ]
  },
  {
   "cell_type": "markdown",
   "metadata": {},
   "source": [
    "## Objetivo\n",
    "* Falar de importância de resolver exercícios\n",
    "* Resolver problemas de matemática com programação.\n",
    "* Falar de algumas features e padrões de Python"
   ]
  },
  {
   "cell_type": "markdown",
   "metadata": {},
   "source": [
    "## Recursos\n",
    "* https://projecteuler.net/\n",
    "* https://exercism.io\n",
    "* http://rosalind.info\n",
    "* https://www.hackerrank.com/contests/projecteuler/challenges"
   ]
  },
  {
   "cell_type": "code",
   "execution_count": null,
   "metadata": {},
   "outputs": [],
   "source": []
  }
 ],
 "metadata": {
  "kernelspec": {
   "display_name": "Python 3",
   "language": "python",
   "name": "python3"
  },
  "language_info": {
   "codemirror_mode": {
    "name": "ipython",
    "version": 3
   },
   "file_extension": ".py",
   "mimetype": "text/x-python",
   "name": "python",
   "nbconvert_exporter": "python",
   "pygments_lexer": "ipython3",
   "version": "3.7.1"
  }
 },
 "nbformat": 4,
 "nbformat_minor": 2
}
