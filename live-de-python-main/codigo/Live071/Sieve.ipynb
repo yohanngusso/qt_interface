{
 "cells": [
  {
   "cell_type": "markdown",
   "metadata": {},
   "source": [
    "# Crivo de Eratóstenes\n",
    "https://pt.wikipedia.org/wiki/Crivo_de_Erat%C3%B3stenes"
   ]
  },
  {
   "cell_type": "code",
   "execution_count": 9,
   "metadata": {},
   "outputs": [],
   "source": [
    "from collections import defaultdict\n",
    "\n",
    "def prime_sieve():\n",
    "    yield 2\n",
    "    yield 3\n",
    "    yield 5\n",
    "    n = 5\n",
    "    composite = defaultdict(list)\n",
    "    composite[25] = [5]\n",
    "    while True:\n",
    "        n = n + 2 if n % 6 == 5 else n + 4\n",
    "        if n not in composite:\n",
    "            yield n\n",
    "            composite[n * n] = [n]\n",
    "        else:\n",
    "            for prime in composite[n]:\n",
    "                next_composite = n + 2 * prime\n",
    "                if next_composite % 6 == 3:\n",
    "                    next_composite = next_composite + 2 * prime\n",
    "                composite[next_composite].append(prime)\n",
    "            del composite[n]\n"
   ]
  },
  {
   "cell_type": "code",
   "execution_count": 10,
   "metadata": {},
   "outputs": [],
   "source": [
    "g = prime_sieve()"
   ]
  },
  {
   "cell_type": "code",
   "execution_count": 11,
   "metadata": {},
   "outputs": [
    {
     "name": "stdout",
     "output_type": "stream",
     "text": [
      "2\n",
      "3\n",
      "5\n",
      "7\n",
      "11\n",
      "13\n",
      "17\n",
      "19\n",
      "23\n",
      "29\n"
     ]
    }
   ],
   "source": [
    "for i in range(10):\n",
    "    print(next(g))"
   ]
  },
  {
   "cell_type": "code",
   "execution_count": null,
   "metadata": {},
   "outputs": [],
   "source": []
  }
 ],
 "metadata": {
  "kernelspec": {
   "display_name": "Python 3",
   "language": "python",
   "name": "python3"
  },
  "language_info": {
   "codemirror_mode": {
    "name": "ipython",
    "version": 3
   },
   "file_extension": ".py",
   "mimetype": "text/x-python",
   "name": "python",
   "nbconvert_exporter": "python",
   "pygments_lexer": "ipython3",
   "version": "3.7.1"
  }
 },
 "nbformat": 4,
 "nbformat_minor": 2
}
