{
 "cells": [
  {
   "cell_type": "markdown",
   "id": "26122436",
   "metadata": {},
   "source": [
    "# Pandas\n",
    "\n",
    "um básico necessário sobre series\n",
    "\n",
    "- Series: https://pandas.pydata.org/pandas-docs/stable/reference/api/pandas.Series.html\n",
    "- plots: https://pandas.pydata.org/pandas-docs/stable/reference/api/pandas.Series.plot.html"
   ]
  },
  {
   "cell_type": "code",
   "execution_count": 5,
   "id": "b6575268",
   "metadata": {},
   "outputs": [],
   "source": [
    "from random import randint\n",
    "from string import ascii_uppercase\n",
    "\n",
    "d = {k: randint(5, 50) for k in ascii_uppercase}"
   ]
  },
  {
   "cell_type": "code",
   "execution_count": 6,
   "id": "55cf0e90",
   "metadata": {},
   "outputs": [
    {
     "data": {
      "text/plain": [
       "{'A': 16,\n",
       " 'B': 16,\n",
       " 'C': 49,\n",
       " 'D': 43,\n",
       " 'E': 8,\n",
       " 'F': 39,\n",
       " 'G': 19,\n",
       " 'H': 14,\n",
       " 'I': 15,\n",
       " 'J': 24,\n",
       " 'K': 29,\n",
       " 'L': 31,\n",
       " 'M': 35,\n",
       " 'N': 10,\n",
       " 'O': 26,\n",
       " 'P': 12,\n",
       " 'Q': 19,\n",
       " 'R': 38,\n",
       " 'S': 10,\n",
       " 'T': 7,\n",
       " 'U': 16,\n",
       " 'V': 28,\n",
       " 'W': 46,\n",
       " 'X': 13,\n",
       " 'Y': 49,\n",
       " 'Z': 11}"
      ]
     },
     "execution_count": 6,
     "metadata": {},
     "output_type": "execute_result"
    }
   ],
   "source": [
    "d"
   ]
  },
  {
   "cell_type": "code",
   "execution_count": 7,
   "id": "11b10391",
   "metadata": {},
   "outputs": [],
   "source": [
    "from pandas import Series"
   ]
  },
  {
   "cell_type": "code",
   "execution_count": 8,
   "id": "01336fe6",
   "metadata": {},
   "outputs": [],
   "source": [
    "s = Series(d)"
   ]
  },
  {
   "cell_type": "code",
   "execution_count": 22,
   "id": "13e4bd75",
   "metadata": {},
   "outputs": [
    {
     "data": {
      "text/plain": [
       "<AxesSubplot: >"
      ]
     },
     "execution_count": 22,
     "metadata": {},
     "output_type": "execute_result"
    },
    {
     "data": {
      "image/png": "[encoded data removed]",
      "text/plain": [
       "<Figure size 640x480 with 1 Axes>"
      ]
     },
     "metadata": {},
     "output_type": "display_data"
    }
   ],
   "source": [
    "s.plot(kind='box')"
   ]
  },
  {
   "cell_type": "markdown",
   "id": "790314fa",
   "metadata": {},
   "source": [
    "## Locs\n",
    "\n",
    "- loc: https://pandas.pydata.org/pandas-docs/stable/reference/api/pandas.Series.loc.html\n",
    "- iloc: https://pandas.pydata.org/pandas-docs/stable/reference/api/pandas.Series.iloc.html"
   ]
  },
  {
   "cell_type": "code",
   "execution_count": 47,
   "id": "d8e33569",
   "metadata": {},
   "outputs": [
    {
     "data": {
      "text/plain": [
       "A    16\n",
       "B    16\n",
       "C    49\n",
       "D    43\n",
       "E     8\n",
       "F    39\n",
       "G    19\n",
       "H    14\n",
       "I    15\n",
       "J    24\n",
       "dtype: int64"
      ]
     },
     "execution_count": 47,
     "metadata": {},
     "output_type": "execute_result"
    }
   ],
   "source": [
    "# def maior_que_17(x):\n",
    "#     return x > 17\n",
    "\n",
    "s.iloc[0: 10]"
   ]
  },
  {
   "cell_type": "markdown",
   "id": "fabafd2f",
   "metadata": {},
   "source": [
    "# Problema 2\n",
    "\n",
    "- groupby: https://pandas.pydata.org/pandas-docs/stable/reference/api/pandas.Series.groupby.html\n",
    "- Grouper: https://pandas.pydata.org/pandas-docs/stable/reference/api/pandas.Grouper.html"
   ]
  },
  {
   "cell_type": "code",
   "execution_count": 69,
   "id": "e1536b8f",
   "metadata": {},
   "outputs": [],
   "source": [
    "from datetime import datetime, timedelta\n",
    "base = datetime.today()\n",
    "base_times = 900\n",
    "date_list = [base - timedelta(days=x) for x in range(base_times)]"
   ]
  },
  {
   "cell_type": "code",
   "execution_count": 70,
   "id": "88007920",
   "metadata": {},
   "outputs": [],
   "source": [
    "freq = Series(\n",
    "    [randint(1, 10_000) for _ in range(base_times)],\n",
    "    index=date_list\n",
    ")"
   ]
  },
  {
   "cell_type": "code",
   "execution_count": 71,
   "id": "255f45ad",
   "metadata": {},
   "outputs": [],
   "source": [
    "from pandas import Grouper\n",
    "\n",
    "g = Grouper(freq='1Y')"
   ]
  },
  {
   "cell_type": "code",
   "execution_count": 74,
   "id": "254218e6",
   "metadata": {},
   "outputs": [
    {
     "data": {
      "text/plain": [
       "2020-12-31    1267578\n",
       "2021-12-31    1823857\n",
       "2022-12-31    1370518\n",
       "Freq: A-DEC, dtype: int64"
      ]
     },
     "execution_count": 74,
     "metadata": {},
     "output_type": "execute_result"
    }
   ],
   "source": [
    "freq.groupby(g).sum()"
   ]
  },
  {
   "cell_type": "code",
   "execution_count": 77,
   "id": "1ab17e07",
   "metadata": {},
   "outputs": [],
   "source": [
    "from seaborn import set\n",
    "set()"
   ]
  },
  {
   "cell_type": "code",
   "execution_count": 88,
   "id": "fdc7c013",
   "metadata": {},
   "outputs": [
    {
     "data": {
      "text/plain": [
       "A    9575\n",
       "B    2875\n",
       "C    7492\n",
       "dtype: int64"
      ]
     },
     "execution_count": 88,
     "metadata": {},
     "output_type": "execute_result"
    }
   ],
   "source": [
    "d30 = freq.iloc[0: 3]\n",
    "\n",
    "d30.index = ['A', 'B', 'C']\n",
    "\n",
    "d30\n",
    "\n",
    "\n",
    "# .groupby(Grouper(freq='1W')).sum().plot(kind='bar')"
   ]
  },
  {
   "cell_type": "markdown",
   "id": "deae5f9a",
   "metadata": {},
   "source": [
    "# Problema 3\n",
    "\n",
    "- apply: https://pandas.pydata.org/pandas-docs/stable/reference/api/pandas.Series.apply.html\n",
    "- map: https://pandas.pydata.org/pandas-docs/stable/reference/api/pandas.Series.map.html"
   ]
  },
  {
   "cell_type": "code",
   "execution_count": 89,
   "id": "406c59eb",
   "metadata": {},
   "outputs": [],
   "source": [
    "from pandas import Series\n",
    "\n",
    "s = Series(d)"
   ]
  },
  {
   "cell_type": "code",
   "execution_count": 93,
   "id": "1a251d86",
   "metadata": {},
   "outputs": [
    {
     "data": {
      "text/plain": [
       "A    True\n",
       "B    True\n",
       "C    True\n",
       "D    True\n",
       "E    True\n",
       "F    True\n",
       "G    True\n",
       "H    True\n",
       "I    True\n",
       "J    True\n",
       "K    True\n",
       "L    True\n",
       "M    True\n",
       "N    True\n",
       "O    True\n",
       "P    True\n",
       "Q    True\n",
       "R    True\n",
       "S    True\n",
       "T    True\n",
       "U    True\n",
       "V    True\n",
       "W    True\n",
       "X    True\n",
       "Y    True\n",
       "Z    True\n",
       "dtype: bool"
      ]
     },
     "execution_count": 93,
     "metadata": {},
     "output_type": "execute_result"
    }
   ],
   "source": [
    "s.apply(bool)"
   ]
  },
  {
   "cell_type": "code",
   "execution_count": 96,
   "id": "2efcee42",
   "metadata": {},
   "outputs": [
    {
     "data": {
      "text/plain": [
       "A       NaN\n",
       "B       NaN\n",
       "C       NaN\n",
       "D       NaN\n",
       "E       NaN\n",
       "F       NaN\n",
       "G       NaN\n",
       "H       NaN\n",
       "I       NaN\n",
       "J       NaN\n",
       "K       NaN\n",
       "L       NaN\n",
       "M       NaN\n",
       "N     É DEZ\n",
       "O       NaN\n",
       "P    XABLAU\n",
       "Q       NaN\n",
       "R       NaN\n",
       "S     É DEZ\n",
       "T       NaN\n",
       "U       NaN\n",
       "V       NaN\n",
       "W       NaN\n",
       "X       NaN\n",
       "Y       NaN\n",
       "Z       NaN\n",
       "dtype: object"
      ]
     },
     "execution_count": 96,
     "metadata": {},
     "output_type": "execute_result"
    }
   ],
   "source": [
    "s.map({10: 'É DEZ', 12: 'XABLAU'}) # dict"
   ]
  },
  {
   "cell_type": "code",
   "execution_count": null,
   "id": "ef48634b",
   "metadata": {},
   "outputs": [],
   "source": [
    "s.map()    # func\n",
    "s.apply()  # func"
   ]
  },
  {
   "cell_type": "markdown",
   "id": "318bab38",
   "metadata": {},
   "source": [
    "# Transformando em um Dataframe\n",
    "\n",
    "- concat: https://pandas.pydata.org/pandas-docs/stable/reference/api/pandas.concat.html"
   ]
  },
  {
   "cell_type": "code",
   "execution_count": 98,
   "id": "ffdb6f89",
   "metadata": {},
   "outputs": [
    {
     "data": {
      "text/html": [
       "<div>\n",
       "<style scoped>\n",
       "    .dataframe tbody tr th:only-of-type {\n",
       "        vertical-align: middle;\n",
       "    }\n",
       "\n",
       "    .dataframe tbody tr th {\n",
       "        vertical-align: top;\n",
       "    }\n",
       "\n",
       "    .dataframe thead th {\n",
       "        text-align: right;\n",
       "    }\n",
       "</style>\n",
       "<table border=\"1\" class=\"dataframe\">\n",
       "  <thead>\n",
       "    <tr style=\"text-align: right;\">\n",
       "      <th></th>\n",
       "      <th>0</th>\n",
       "      <th>1</th>\n",
       "    </tr>\n",
       "  </thead>\n",
       "  <tbody>\n",
       "    <tr>\n",
       "      <th>A</th>\n",
       "      <td>16</td>\n",
       "      <td>16</td>\n",
       "    </tr>\n",
       "    <tr>\n",
       "      <th>B</th>\n",
       "      <td>16</td>\n",
       "      <td>16</td>\n",
       "    </tr>\n",
       "    <tr>\n",
       "      <th>C</th>\n",
       "      <td>49</td>\n",
       "      <td>49</td>\n",
       "    </tr>\n",
       "    <tr>\n",
       "      <th>D</th>\n",
       "      <td>43</td>\n",
       "      <td>43</td>\n",
       "    </tr>\n",
       "    <tr>\n",
       "      <th>E</th>\n",
       "      <td>8</td>\n",
       "      <td>8</td>\n",
       "    </tr>\n",
       "    <tr>\n",
       "      <th>F</th>\n",
       "      <td>39</td>\n",
       "      <td>39</td>\n",
       "    </tr>\n",
       "    <tr>\n",
       "      <th>G</th>\n",
       "      <td>19</td>\n",
       "      <td>19</td>\n",
       "    </tr>\n",
       "    <tr>\n",
       "      <th>H</th>\n",
       "      <td>14</td>\n",
       "      <td>14</td>\n",
       "    </tr>\n",
       "    <tr>\n",
       "      <th>I</th>\n",
       "      <td>15</td>\n",
       "      <td>15</td>\n",
       "    </tr>\n",
       "    <tr>\n",
       "      <th>J</th>\n",
       "      <td>24</td>\n",
       "      <td>24</td>\n",
       "    </tr>\n",
       "    <tr>\n",
       "      <th>K</th>\n",
       "      <td>29</td>\n",
       "      <td>29</td>\n",
       "    </tr>\n",
       "    <tr>\n",
       "      <th>L</th>\n",
       "      <td>31</td>\n",
       "      <td>31</td>\n",
       "    </tr>\n",
       "    <tr>\n",
       "      <th>M</th>\n",
       "      <td>35</td>\n",
       "      <td>35</td>\n",
       "    </tr>\n",
       "    <tr>\n",
       "      <th>N</th>\n",
       "      <td>10</td>\n",
       "      <td>10</td>\n",
       "    </tr>\n",
       "    <tr>\n",
       "      <th>O</th>\n",
       "      <td>26</td>\n",
       "      <td>26</td>\n",
       "    </tr>\n",
       "    <tr>\n",
       "      <th>P</th>\n",
       "      <td>12</td>\n",
       "      <td>12</td>\n",
       "    </tr>\n",
       "    <tr>\n",
       "      <th>Q</th>\n",
       "      <td>19</td>\n",
       "      <td>19</td>\n",
       "    </tr>\n",
       "    <tr>\n",
       "      <th>R</th>\n",
       "      <td>38</td>\n",
       "      <td>38</td>\n",
       "    </tr>\n",
       "    <tr>\n",
       "      <th>S</th>\n",
       "      <td>10</td>\n",
       "      <td>10</td>\n",
       "    </tr>\n",
       "    <tr>\n",
       "      <th>T</th>\n",
       "      <td>7</td>\n",
       "      <td>7</td>\n",
       "    </tr>\n",
       "    <tr>\n",
       "      <th>U</th>\n",
       "      <td>16</td>\n",
       "      <td>16</td>\n",
       "    </tr>\n",
       "    <tr>\n",
       "      <th>V</th>\n",
       "      <td>28</td>\n",
       "      <td>28</td>\n",
       "    </tr>\n",
       "    <tr>\n",
       "      <th>W</th>\n",
       "      <td>46</td>\n",
       "      <td>46</td>\n",
       "    </tr>\n",
       "    <tr>\n",
       "      <th>X</th>\n",
       "      <td>13</td>\n",
       "      <td>13</td>\n",
       "    </tr>\n",
       "    <tr>\n",
       "      <th>Y</th>\n",
       "      <td>49</td>\n",
       "      <td>49</td>\n",
       "    </tr>\n",
       "    <tr>\n",
       "      <th>Z</th>\n",
       "      <td>11</td>\n",
       "      <td>11</td>\n",
       "    </tr>\n",
       "  </tbody>\n",
       "</table>\n",
       "</div>"
      ],
      "text/plain": [
       "    0   1\n",
       "A  16  16\n",
       "B  16  16\n",
       "C  49  49\n",
       "D  43  43\n",
       "E   8   8\n",
       "F  39  39\n",
       "G  19  19\n",
       "H  14  14\n",
       "I  15  15\n",
       "J  24  24\n",
       "K  29  29\n",
       "L  31  31\n",
       "M  35  35\n",
       "N  10  10\n",
       "O  26  26\n",
       "P  12  12\n",
       "Q  19  19\n",
       "R  38  38\n",
       "S  10  10\n",
       "T   7   7\n",
       "U  16  16\n",
       "V  28  28\n",
       "W  46  46\n",
       "X  13  13\n",
       "Y  49  49\n",
       "Z  11  11"
      ]
     },
     "execution_count": 98,
     "metadata": {},
     "output_type": "execute_result"
    }
   ],
   "source": [
    "from pandas import Series, concat\n",
    "\n",
    "s1 = Series(d)\n",
    "s2 = Series(d)\n",
    "\n",
    "df = concat([s1, s2], axis=1)\n",
    "\n",
    "df"
   ]
  },
  {
   "cell_type": "code",
   "execution_count": 99,
   "id": "49dc3897",
   "metadata": {},
   "outputs": [
    {
     "data": {
      "text/html": [
       "<div>\n",
       "<style scoped>\n",
       "    .dataframe tbody tr th:only-of-type {\n",
       "        vertical-align: middle;\n",
       "    }\n",
       "\n",
       "    .dataframe tbody tr th {\n",
       "        vertical-align: top;\n",
       "    }\n",
       "\n",
       "    .dataframe thead th {\n",
       "        text-align: right;\n",
       "    }\n",
       "</style>\n",
       "<table border=\"1\" class=\"dataframe\">\n",
       "  <thead>\n",
       "    <tr style=\"text-align: right;\">\n",
       "      <th></th>\n",
       "      <th>A</th>\n",
       "      <th>B</th>\n",
       "      <th>C</th>\n",
       "      <th>D</th>\n",
       "      <th>E</th>\n",
       "      <th>F</th>\n",
       "      <th>G</th>\n",
       "      <th>H</th>\n",
       "      <th>I</th>\n",
       "      <th>J</th>\n",
       "      <th>...</th>\n",
       "      <th>Q</th>\n",
       "      <th>R</th>\n",
       "      <th>S</th>\n",
       "      <th>T</th>\n",
       "      <th>U</th>\n",
       "      <th>V</th>\n",
       "      <th>W</th>\n",
       "      <th>X</th>\n",
       "      <th>Y</th>\n",
       "      <th>Z</th>\n",
       "    </tr>\n",
       "  </thead>\n",
       "  <tbody>\n",
       "    <tr>\n",
       "      <th>0</th>\n",
       "      <td>16</td>\n",
       "      <td>16</td>\n",
       "      <td>49</td>\n",
       "      <td>43</td>\n",
       "      <td>8</td>\n",
       "      <td>39</td>\n",
       "      <td>19</td>\n",
       "      <td>14</td>\n",
       "      <td>15</td>\n",
       "      <td>24</td>\n",
       "      <td>...</td>\n",
       "      <td>19</td>\n",
       "      <td>38</td>\n",
       "      <td>10</td>\n",
       "      <td>7</td>\n",
       "      <td>16</td>\n",
       "      <td>28</td>\n",
       "      <td>46</td>\n",
       "      <td>13</td>\n",
       "      <td>49</td>\n",
       "      <td>11</td>\n",
       "    </tr>\n",
       "    <tr>\n",
       "      <th>1</th>\n",
       "      <td>16</td>\n",
       "      <td>16</td>\n",
       "      <td>49</td>\n",
       "      <td>43</td>\n",
       "      <td>8</td>\n",
       "      <td>39</td>\n",
       "      <td>19</td>\n",
       "      <td>14</td>\n",
       "      <td>15</td>\n",
       "      <td>24</td>\n",
       "      <td>...</td>\n",
       "      <td>19</td>\n",
       "      <td>38</td>\n",
       "      <td>10</td>\n",
       "      <td>7</td>\n",
       "      <td>16</td>\n",
       "      <td>28</td>\n",
       "      <td>46</td>\n",
       "      <td>13</td>\n",
       "      <td>49</td>\n",
       "      <td>11</td>\n",
       "    </tr>\n",
       "  </tbody>\n",
       "</table>\n",
       "<p>2 rows × 26 columns</p>\n",
       "</div>"
      ],
      "text/plain": [
       "    A   B   C   D  E   F   G   H   I   J  ...   Q   R   S  T   U   V   W   X  \\\n",
       "0  16  16  49  43  8  39  19  14  15  24  ...  19  38  10  7  16  28  46  13   \n",
       "1  16  16  49  43  8  39  19  14  15  24  ...  19  38  10  7  16  28  46  13   \n",
       "\n",
       "    Y   Z  \n",
       "0  49  11  \n",
       "1  49  11  \n",
       "\n",
       "[2 rows x 26 columns]"
      ]
     },
     "execution_count": 99,
     "metadata": {},
     "output_type": "execute_result"
    }
   ],
   "source": [
    "df.transpose()"
   ]
  }
 ],
 "metadata": {
  "kernelspec": {
   "display_name": "Python 3 (ipykernel)",
   "language": "python",
   "name": "python3"
  },
  "language_info": {
   "codemirror_mode": {
    "name": "ipython",
    "version": 3
   },
   "file_extension": ".py",
   "mimetype": "text/x-python",
   "name": "python",
   "nbconvert_exporter": "python",
   "pygments_lexer": "ipython3",
   "version": "3.10.7"
  }
 },
 "nbformat": 4,
 "nbformat_minor": 5
}
