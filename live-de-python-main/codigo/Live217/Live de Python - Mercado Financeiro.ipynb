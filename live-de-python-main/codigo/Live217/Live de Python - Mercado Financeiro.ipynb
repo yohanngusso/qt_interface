{
 "cells": [
  {
   "cell_type": "markdown",
   "id": "4e56db80",
   "metadata": {},
   "source": [
    "# Live de Python - Mercado Financeiro"
   ]
  },
  {
   "cell_type": "code",
   "execution_count": 1,
   "id": "460425fe",
   "metadata": {},
   "outputs": [],
   "source": [
    "import warnings\n",
    "warnings.filterwarnings('ignore')"
   ]
  },
  {
   "cell_type": "markdown",
   "id": "3653539c",
   "metadata": {},
   "source": [
    "# Imports"
   ]
  },
  {
   "cell_type": "code",
   "execution_count": 2,
   "id": "ad546e8f",
   "metadata": {},
   "outputs": [],
   "source": [
    "import pandas as pd\n",
    "import matplotlib.pyplot as plt\n",
    "import numpy as np\n",
    "import seaborn as sns\n",
    "import yfinance as yf\n",
    "from functools import reduce\n",
    "from itertools import product\n",
    "from tqdm import tqdm"
   ]
  },
  {
   "cell_type": "markdown",
   "id": "e2bd762c",
   "metadata": {},
   "source": [
    "# Configurações"
   ]
  },
  {
   "cell_type": "code",
   "execution_count": 3,
   "id": "e89aea2f",
   "metadata": {},
   "outputs": [],
   "source": [
    "%matplotlib inline\n",
    "pd.options.display.float_format = '{:,.2f}'.format"
   ]
  },
  {
   "cell_type": "markdown",
   "id": "d2006e6f",
   "metadata": {},
   "source": [
    "# Principal"
   ]
  },
  {
   "cell_type": "markdown",
   "id": "5aa9a189",
   "metadata": {},
   "source": [
    "## Baixando dados via YFinance"
   ]
  },
  {
   "cell_type": "code",
   "execution_count": 4,
   "id": "b7cbade5",
   "metadata": {
    "collapsed": true,
    "jupyter": {
     "outputs_hidden": true
    }
   },
   "outputs": [
    {
     "data": {
      "text/plain": [
       "\u001b[0;31mSignature:\u001b[0m\n",
       "\u001b[0myf\u001b[0m\u001b[0;34m.\u001b[0m\u001b[0mdownload\u001b[0m\u001b[0;34m(\u001b[0m\u001b[0;34m\u001b[0m\n",
       "\u001b[0;34m\u001b[0m    \u001b[0mtickers\u001b[0m\u001b[0;34m,\u001b[0m\u001b[0;34m\u001b[0m\n",
       "\u001b[0;34m\u001b[0m    \u001b[0mstart\u001b[0m\u001b[0;34m=\u001b[0m\u001b[0;32mNone\u001b[0m\u001b[0;34m,\u001b[0m\u001b[0;34m\u001b[0m\n",
       "\u001b[0;34m\u001b[0m    \u001b[0mend\u001b[0m\u001b[0;34m=\u001b[0m\u001b[0;32mNone\u001b[0m\u001b[0;34m,\u001b[0m\u001b[0;34m\u001b[0m\n",
       "\u001b[0;34m\u001b[0m    \u001b[0mactions\u001b[0m\u001b[0;34m=\u001b[0m\u001b[0;32mFalse\u001b[0m\u001b[0;34m,\u001b[0m\u001b[0;34m\u001b[0m\n",
       "\u001b[0;34m\u001b[0m    \u001b[0mthreads\u001b[0m\u001b[0;34m=\u001b[0m\u001b[0;32mTrue\u001b[0m\u001b[0;34m,\u001b[0m\u001b[0;34m\u001b[0m\n",
       "\u001b[0;34m\u001b[0m    \u001b[0mgroup_by\u001b[0m\u001b[0;34m=\u001b[0m\u001b[0;34m'column'\u001b[0m\u001b[0;34m,\u001b[0m\u001b[0;34m\u001b[0m\n",
       "\u001b[0;34m\u001b[0m    \u001b[0mauto_adjust\u001b[0m\u001b[0;34m=\u001b[0m\u001b[0;32mFalse\u001b[0m\u001b[0;34m,\u001b[0m\u001b[0;34m\u001b[0m\n",
       "\u001b[0;34m\u001b[0m    \u001b[0mback_adjust\u001b[0m\u001b[0;34m=\u001b[0m\u001b[0;32mFalse\u001b[0m\u001b[0;34m,\u001b[0m\u001b[0;34m\u001b[0m\n",
       "\u001b[0;34m\u001b[0m    \u001b[0mprogress\u001b[0m\u001b[0;34m=\u001b[0m\u001b[0;32mTrue\u001b[0m\u001b[0;34m,\u001b[0m\u001b[0;34m\u001b[0m\n",
       "\u001b[0;34m\u001b[0m    \u001b[0mperiod\u001b[0m\u001b[0;34m=\u001b[0m\u001b[0;34m'max'\u001b[0m\u001b[0;34m,\u001b[0m\u001b[0;34m\u001b[0m\n",
       "\u001b[0;34m\u001b[0m    \u001b[0mshow_errors\u001b[0m\u001b[0;34m=\u001b[0m\u001b[0;32mTrue\u001b[0m\u001b[0;34m,\u001b[0m\u001b[0;34m\u001b[0m\n",
       "\u001b[0;34m\u001b[0m    \u001b[0minterval\u001b[0m\u001b[0;34m=\u001b[0m\u001b[0;34m'1d'\u001b[0m\u001b[0;34m,\u001b[0m\u001b[0;34m\u001b[0m\n",
       "\u001b[0;34m\u001b[0m    \u001b[0mprepost\u001b[0m\u001b[0;34m=\u001b[0m\u001b[0;32mFalse\u001b[0m\u001b[0;34m,\u001b[0m\u001b[0;34m\u001b[0m\n",
       "\u001b[0;34m\u001b[0m    \u001b[0mproxy\u001b[0m\u001b[0;34m=\u001b[0m\u001b[0;32mNone\u001b[0m\u001b[0;34m,\u001b[0m\u001b[0;34m\u001b[0m\n",
       "\u001b[0;34m\u001b[0m    \u001b[0mrounding\u001b[0m\u001b[0;34m=\u001b[0m\u001b[0;32mFalse\u001b[0m\u001b[0;34m,\u001b[0m\u001b[0;34m\u001b[0m\n",
       "\u001b[0;34m\u001b[0m    \u001b[0mtimeout\u001b[0m\u001b[0;34m=\u001b[0m\u001b[0;32mNone\u001b[0m\u001b[0;34m,\u001b[0m\u001b[0;34m\u001b[0m\n",
       "\u001b[0;34m\u001b[0m    \u001b[0;34m**\u001b[0m\u001b[0mkwargs\u001b[0m\u001b[0;34m,\u001b[0m\u001b[0;34m\u001b[0m\n",
       "\u001b[0;34m\u001b[0m\u001b[0;34m)\u001b[0m\u001b[0;34m\u001b[0m\u001b[0;34m\u001b[0m\u001b[0m\n",
       "\u001b[0;31mDocstring:\u001b[0m\n",
       "Download yahoo tickers\n",
       ":Parameters:\n",
       "    tickers : str, list\n",
       "        List of tickers to download\n",
       "    period : str\n",
       "        Valid periods: 1d,5d,1mo,3mo,6mo,1y,2y,5y,10y,ytd,max\n",
       "        Either Use period parameter or use start and end\n",
       "    interval : str\n",
       "        Valid intervals: 1m,2m,5m,15m,30m,60m,90m,1h,1d,5d,1wk,1mo,3mo\n",
       "        Intraday data cannot extend last 60 days\n",
       "    start: str\n",
       "        Download start date string (YYYY-MM-DD) or _datetime.\n",
       "        Default is 1900-01-01\n",
       "    end: str\n",
       "        Download end date string (YYYY-MM-DD) or _datetime.\n",
       "        Default is now\n",
       "    group_by : str\n",
       "        Group by 'ticker' or 'column' (default)\n",
       "    prepost : bool\n",
       "        Include Pre and Post market data in results?\n",
       "        Default is False\n",
       "    auto_adjust: bool\n",
       "        Adjust all OHLC automatically? Default is False\n",
       "    actions: bool\n",
       "        Download dividend + stock splits data. Default is False\n",
       "    threads: bool / int\n",
       "        How many threads to use for mass downloading. Default is True\n",
       "    proxy: str\n",
       "        Optional. Proxy server URL scheme. Default is None\n",
       "    rounding: bool\n",
       "        Optional. Round values to 2 decimal places?\n",
       "    show_errors: bool\n",
       "        Optional. Doesn't print errors if True\n",
       "    timeout: None or float\n",
       "        If not None stops waiting for a response after given number of\n",
       "        seconds. (Can also be a fraction of a second e.g. 0.01)\n",
       "\u001b[0;31mFile:\u001b[0m      ~/.ve/TradingModelsStudies/lib/python3.8/site-packages/yfinance/multi.py\n",
       "\u001b[0;31mType:\u001b[0m      function\n"
      ]
     },
     "metadata": {},
     "output_type": "display_data"
    }
   ],
   "source": [
    "yf.download?"
   ]
  },
  {
   "cell_type": "code",
   "execution_count": 5,
   "id": "f0aba736",
   "metadata": {},
   "outputs": [
    {
     "name": "stdout",
     "output_type": "stream",
     "text": [
      "[*********************100%***********************]  1 of 1 completed\n"
     ]
    }
   ],
   "source": [
    "ativo = 'ABEV3.SA'\n",
    "data_inicio = '2000-01-01'\n",
    "historico_dos_precos = yf.download(ativo, start=data_inicio)\n",
    "# historico_dos_precos = pd.read_csv(ativo).set_index('Date')\n",
    "# historico_dos_precos.index = pd.to_datetime(historico_dos_precos.index)"
   ]
  },
  {
   "cell_type": "markdown",
   "id": "23f5b1a1",
   "metadata": {},
   "source": [
    "## Visualização dos dados"
   ]
  },
  {
   "cell_type": "code",
   "execution_count": 6,
   "id": "b5d665cc",
   "metadata": {},
   "outputs": [
    {
     "data": {
      "text/html": [
       "<div>\n",
       "<style scoped>\n",
       "    .dataframe tbody tr th:only-of-type {\n",
       "        vertical-align: middle;\n",
       "    }\n",
       "\n",
       "    .dataframe tbody tr th {\n",
       "        vertical-align: top;\n",
       "    }\n",
       "\n",
       "    .dataframe thead th {\n",
       "        text-align: right;\n",
       "    }\n",
       "</style>\n",
       "<table border=\"1\" class=\"dataframe\">\n",
       "  <thead>\n",
       "    <tr style=\"text-align: right;\">\n",
       "      <th></th>\n",
       "      <th>Open</th>\n",
       "      <th>High</th>\n",
       "      <th>Low</th>\n",
       "      <th>Close</th>\n",
       "      <th>Adj Close</th>\n",
       "      <th>Volume</th>\n",
       "    </tr>\n",
       "    <tr>\n",
       "      <th>Date</th>\n",
       "      <th></th>\n",
       "      <th></th>\n",
       "      <th></th>\n",
       "      <th></th>\n",
       "      <th></th>\n",
       "      <th></th>\n",
       "    </tr>\n",
       "  </thead>\n",
       "  <tbody>\n",
       "    <tr>\n",
       "      <th>2000-01-05</th>\n",
       "      <td>0.52</td>\n",
       "      <td>0.52</td>\n",
       "      <td>0.52</td>\n",
       "      <td>0.52</td>\n",
       "      <td>0.32</td>\n",
       "      <td>985</td>\n",
       "    </tr>\n",
       "    <tr>\n",
       "      <th>2000-01-06</th>\n",
       "      <td>0.49</td>\n",
       "      <td>0.49</td>\n",
       "      <td>0.49</td>\n",
       "      <td>0.49</td>\n",
       "      <td>0.31</td>\n",
       "      <td>227</td>\n",
       "    </tr>\n",
       "    <tr>\n",
       "      <th>2000-01-07</th>\n",
       "      <td>0.49</td>\n",
       "      <td>0.49</td>\n",
       "      <td>0.49</td>\n",
       "      <td>0.49</td>\n",
       "      <td>0.31</td>\n",
       "      <td>151</td>\n",
       "    </tr>\n",
       "  </tbody>\n",
       "</table>\n",
       "</div>"
      ],
      "text/plain": [
       "            Open  High  Low  Close  Adj Close  Volume\n",
       "Date                                                 \n",
       "2000-01-05  0.52  0.52 0.52   0.52       0.32     985\n",
       "2000-01-06  0.49  0.49 0.49   0.49       0.31     227\n",
       "2000-01-07  0.49  0.49 0.49   0.49       0.31     151"
      ]
     },
     "execution_count": 6,
     "metadata": {},
     "output_type": "execute_result"
    }
   ],
   "source": [
    "historico_dos_precos.head(3)"
   ]
  },
  {
   "cell_type": "code",
   "execution_count": 7,
   "id": "252a2436",
   "metadata": {},
   "outputs": [
    {
     "data": {
      "text/html": [
       "<div>\n",
       "<style scoped>\n",
       "    .dataframe tbody tr th:only-of-type {\n",
       "        vertical-align: middle;\n",
       "    }\n",
       "\n",
       "    .dataframe tbody tr th {\n",
       "        vertical-align: top;\n",
       "    }\n",
       "\n",
       "    .dataframe thead th {\n",
       "        text-align: right;\n",
       "    }\n",
       "</style>\n",
       "<table border=\"1\" class=\"dataframe\">\n",
       "  <thead>\n",
       "    <tr style=\"text-align: right;\">\n",
       "      <th></th>\n",
       "      <th>Open</th>\n",
       "      <th>High</th>\n",
       "      <th>Low</th>\n",
       "      <th>Close</th>\n",
       "      <th>Adj Close</th>\n",
       "      <th>Volume</th>\n",
       "    </tr>\n",
       "    <tr>\n",
       "      <th>Date</th>\n",
       "      <th></th>\n",
       "      <th></th>\n",
       "      <th></th>\n",
       "      <th></th>\n",
       "      <th></th>\n",
       "      <th></th>\n",
       "    </tr>\n",
       "  </thead>\n",
       "  <tbody>\n",
       "    <tr>\n",
       "      <th>2022-08-25</th>\n",
       "      <td>15.95</td>\n",
       "      <td>16.08</td>\n",
       "      <td>15.75</td>\n",
       "      <td>15.82</td>\n",
       "      <td>15.82</td>\n",
       "      <td>10482600</td>\n",
       "    </tr>\n",
       "    <tr>\n",
       "      <th>2022-08-26</th>\n",
       "      <td>15.89</td>\n",
       "      <td>15.90</td>\n",
       "      <td>15.61</td>\n",
       "      <td>15.67</td>\n",
       "      <td>15.67</td>\n",
       "      <td>12909700</td>\n",
       "    </tr>\n",
       "    <tr>\n",
       "      <th>2022-08-29</th>\n",
       "      <td>0.00</td>\n",
       "      <td>0.00</td>\n",
       "      <td>0.00</td>\n",
       "      <td>15.61</td>\n",
       "      <td>15.61</td>\n",
       "      <td>0</td>\n",
       "    </tr>\n",
       "  </tbody>\n",
       "</table>\n",
       "</div>"
      ],
      "text/plain": [
       "            Open  High   Low  Close  Adj Close    Volume\n",
       "Date                                                    \n",
       "2022-08-25 15.95 16.08 15.75  15.82      15.82  10482600\n",
       "2022-08-26 15.89 15.90 15.61  15.67      15.67  12909700\n",
       "2022-08-29  0.00  0.00  0.00  15.61      15.61         0"
      ]
     },
     "execution_count": 7,
     "metadata": {},
     "output_type": "execute_result"
    }
   ],
   "source": [
    "historico_dos_precos.tail(3)"
   ]
  },
  {
   "cell_type": "markdown",
   "id": "a4dfc84c",
   "metadata": {},
   "source": [
    "## Montagem e Avaliação de estratégias"
   ]
  },
  {
   "cell_type": "code",
   "execution_count": 15,
   "id": "6f670d35",
   "metadata": {},
   "outputs": [],
   "source": [
    "def construir_estado_inicial():\n",
    "    return {\n",
    "        'retornos': {},\n",
    "        'comprada': False,\n",
    "        'preco_de_compra': 0,\n",
    "    }"
   ]
  },
  {
   "cell_type": "code",
   "execution_count": 16,
   "id": "f6024e9e",
   "metadata": {},
   "outputs": [],
   "source": [
    "def backtest(estado, dados):\n",
    "    linha_registro, comprar, vender = dados\n",
    "    date, registro = linha_registro\n",
    "    if estado['comprada'] and vender:\n",
    "        retorno_do_trade = (registro['Preco_Compra_Venda'] / estado['preco_da_compra']) - 1\n",
    "        estado['retornos'][date] = retorno_do_trade\n",
    "        estado['comprada'] = False\n",
    "    elif (not estado['comprada']) and comprar:\n",
    "        estado['preco_da_compra'] = registro['Preco_Compra_Venda']\n",
    "        estado['comprada'] = True\n",
    "    \n",
    "    return estado"
   ]
  },
  {
   "cell_type": "code",
   "execution_count": 17,
   "id": "13410948",
   "metadata": {},
   "outputs": [],
   "source": [
    "def aplicar_backtest(historico_dos_precos, flags_de_compra, flags_de_venda):\n",
    "    historico_dos_precos['Preco_Compra_Venda'] = historico_dos_precos['Open'].shift(-1)\n",
    "    resultado = reduce(\n",
    "        backtest,\n",
    "        tqdm(zip(\n",
    "            historico_dos_precos.iterrows(),\n",
    "            flags_de_compra,\n",
    "            flags_de_venda\n",
    "        )),\n",
    "        construir_estado_inicial()\n",
    "    )\n",
    "    return resultado['retornos']"
   ]
  },
  {
   "cell_type": "code",
   "execution_count": 42,
   "id": "8c395c38",
   "metadata": {},
   "outputs": [],
   "source": [
    "def avaliar_retornos(retornos, retornos_compostos):\n",
    "    expectativa_matematica = retornos.mean()\n",
    "    taxa_de_acerto = (retornos > 0).value_counts(normalize=True).get(True, 0)\n",
    "    drawdown_maximo = ((retornos_compostos / retornos_compostos.cummax()) - 1).min()\n",
    "    payoff = retornos[retornos > 0].mean() / -retornos[retornos < 0].mean()\n",
    "    numero_de_trades = retornos.shape[0]\n",
    "    retorno_total = retornos_compostos[-1]\n",
    "\n",
    "    return pd.Series({\n",
    "        'expectativa_matematica': expectativa_matematica * 100,\n",
    "        'taxa_de_acerto': taxa_de_acerto * 100,\n",
    "        'drawdown máximo': drawdown_maximo * 100,\n",
    "        'payoff': payoff,\n",
    "        'numero de trades': numero_de_trades,\n",
    "        'retorno total': retorno_total,\n",
    "    })"
   ]
  },
  {
   "cell_type": "markdown",
   "id": "4724d7fd",
   "metadata": {},
   "source": [
    "### Estratégia aleatória"
   ]
  },
  {
   "cell_type": "code",
   "execution_count": null,
   "id": "da0c1eff",
   "metadata": {},
   "outputs": [],
   "source": [
    "retornos = pd.Series(aplicar_backtest(historico_dos_precos, hora_de_comprar, hora_de_vender))\n",
    "retornos_compostos = (1 + retornos).cumprod() * 100\n",
    "\n",
    "display(avaliar_retornos(retornos, retornos_compostos))\n",
    "\n",
    "ax = retornos_compostos.plot(figsize=(9, 5), grid=True)\n",
    "ax.set_xlabel('Anos');\n",
    "ax.set_ylabel('Retorno (em %)')\n",
    "ax.set_title('Retornos de MGLU3 seguindo estratégia aleatória');"
   ]
  },
  {
   "cell_type": "markdown",
   "id": "24476de4",
   "metadata": {},
   "source": [
    "### Estratégia seguidora de tendência"
   ]
  },
  {
   "cell_type": "code",
   "execution_count": 47,
   "id": "d2e5432a",
   "metadata": {},
   "outputs": [],
   "source": [
    "historico_dos_precos['MM20'] = historico_dos_precos['Close'].rolling(20).mean()\n",
    "historico_dos_precos['MM200'] = historico_dos_precos['Close'].rolling(200).mean()"
   ]
  },
  {
   "cell_type": "code",
   "execution_count": 36,
   "id": "606b7a53",
   "metadata": {},
   "outputs": [],
   "source": [
    "historico_dos_precos['Regra de Compra'] = historico_dos_precos['Close'] > historico_dos_precos['MM20']\n",
    "historico_dos_precos['Regra de Venda'] = historico_dos_precos['Close'] < historico_dos_precos['MM20']\n",
    "\n",
    "resultado = aplicar_backtest(\n",
    "    historico_dos_precos,\n",
    "    historico_dos_precos['Regra de Compra'],\n",
    "    historico_dos_precos['Regra de Venda']\n",
    ")"
   ]
  },
  {
   "cell_type": "code",
   "execution_count": 37,
   "id": "c4b60184",
   "metadata": {},
   "outputs": [],
   "source": [
    "resultados_cumulativos = (1 + pd.Series(resultado)).cumprod()"
   ]
  },
  {
   "cell_type": "code",
   "execution_count": 38,
   "id": "6dc464e2",
   "metadata": {},
   "outputs": [
    {
     "data": {
      "text/plain": [
       "<AxesSubplot:>"
      ]
     },
     "execution_count": 38,
     "metadata": {},
     "output_type": "execute_result"
    },
    {
     "data": {
      "image/png": "[encoded data removed]",
      "text/plain": [
       "<Figure size 1296x432 with 1 Axes>"
      ]
     },
     "metadata": {
      "needs_background": "light"
     },
     "output_type": "display_data"
    }
   ],
   "source": [
    "resultados_cumulativos.plot(figsize=(18, 6), grid=True)"
   ]
  },
  {
   "cell_type": "code",
   "execution_count": 39,
   "id": "3bda3e9f",
   "metadata": {},
   "outputs": [
    {
     "data": {
      "text/plain": [
       "1500"
      ]
     },
     "execution_count": 39,
     "metadata": {},
     "output_type": "execute_result"
    }
   ],
   "source": [
    "100 * 15"
   ]
  },
  {
   "cell_type": "code",
   "execution_count": 40,
   "id": "bf037620",
   "metadata": {},
   "outputs": [
    {
     "data": {
      "text/plain": [
       "<AxesSubplot:>"
      ]
     },
     "execution_count": 40,
     "metadata": {},
     "output_type": "execute_result"
    },
    {
     "data": {
      "image/png": "[encoded data removed]",
      "text/plain": [
       "<Figure size 1296x432 with 1 Axes>"
      ]
     },
     "metadata": {
      "needs_background": "light"
     },
     "output_type": "display_data"
    }
   ],
   "source": [
    "(((resultados_cumulativos / resultados_cumulativos.cummax()) - 1) * 100).plot(figsize=(18, 6), grid=True)"
   ]
  },
  {
   "cell_type": "code",
   "execution_count": 46,
   "id": "dd64f462",
   "metadata": {},
   "outputs": [
    {
     "data": {
      "text/plain": [
       "expectativa_matematica     5.51\n",
       "taxa_de_acerto            31.25\n",
       "drawdown máximo          -33.42\n",
       "payoff                    11.11\n",
       "numero de trades          80.00\n",
       "retorno total             16.16\n",
       "dtype: float64"
      ]
     },
     "execution_count": 46,
     "metadata": {},
     "output_type": "execute_result"
    }
   ],
   "source": [
    "avaliar_retornos(pd.Series(resultado), resultados_cumulativos)"
   ]
  },
  {
   "cell_type": "code",
   "execution_count": null,
   "id": "3c1d14d5",
   "metadata": {},
   "outputs": [],
   "source": [
    "display(avaliar_retornos(retornos, retornos_compostos))\n",
    "\n",
    "ax = retornos_compostos.plot(figsize=(9, 5), grid=True)\n",
    "ax.set_xlabel('Anos');\n",
    "ax.set_ylabel('Retorno (em %)')\n",
    "ax.set_title(f'Retornos de {ativo} seguindo estratégia aleatória');"
   ]
  },
  {
   "cell_type": "markdown",
   "id": "1067528f",
   "metadata": {},
   "source": [
    "### Estratégia de volatilidade"
   ]
  },
  {
   "cell_type": "code",
   "execution_count": 74,
   "id": "ef2a4975",
   "metadata": {},
   "outputs": [],
   "source": [
    "historico_dos_precos['Distancia_Fechamento_MM200'] = historico_dos_precos['Close'] / historico_dos_precos['MM20']"
   ]
  },
  {
   "cell_type": "code",
   "execution_count": 75,
   "id": "af86ddfb",
   "metadata": {},
   "outputs": [],
   "source": [
    "treino = historico_dos_precos.head(historico_dos_precos.shape[0] // 2).index\n",
    "teste = historico_dos_precos.tail(historico_dos_precos.shape[0] // 2).index"
   ]
  },
  {
   "cell_type": "markdown",
   "id": "20816c1b",
   "metadata": {},
   "source": [
    "#### Avaliando no treino"
   ]
  },
  {
   "cell_type": "code",
   "execution_count": 77,
   "id": "439825b8",
   "metadata": {},
   "outputs": [
    {
     "data": {
      "text/plain": [
       "<AxesSubplot:>"
      ]
     },
     "execution_count": 77,
     "metadata": {},
     "output_type": "execute_result"
    },
    {
     "data": {
      "image/png": "[encoded data removed]",
      "text/plain": [
       "<Figure size 432x288 with 1 Axes>"
      ]
     },
     "metadata": {
      "needs_background": "light"
     },
     "output_type": "display_data"
    }
   ],
   "source": [
    "historico_dos_precos.loc[treino, 'Distancia_Fechamento_MM200'].hist()"
   ]
  },
  {
   "cell_type": "code",
   "execution_count": 84,
   "id": "6ee51808",
   "metadata": {},
   "outputs": [
    {
     "name": "stderr",
     "output_type": "stream",
     "text": [
      "5692it [00:00, 8154.00it/s]\n"
     ]
    }
   ],
   "source": [
    "historico_dos_precos['Regra de Compra'] = historico_dos_precos['Distancia_Fechamento_MM200'] < 0.9\n",
    "historico_dos_precos['Regra de Venda'] = historico_dos_precos['Distancia_Fechamento_MM200'] > 1.1\n",
    "\n",
    "resultado = aplicar_backtest(\n",
    "    historico_dos_precos,\n",
    "    historico_dos_precos['Regra de Compra'],\n",
    "    historico_dos_precos['Regra de Venda']\n",
    ")\n",
    "\n",
    "resultados_cumulativos = (1 + pd.Series(resultado)).cumprod()"
   ]
  },
  {
   "cell_type": "code",
   "execution_count": 85,
   "id": "d32fe7d4",
   "metadata": {},
   "outputs": [
    {
     "data": {
      "text/plain": [
       "{Timestamp('2001-11-05 00:00:00'): 0.17021144409588285,\n",
       " Timestamp('2002-10-24 00:00:00'): 0.23380211419953345,\n",
       " Timestamp('2005-12-01 00:00:00'): -0.02655262102973832,\n",
       " Timestamp('2008-11-13 00:00:00'): -0.19565218519311067,\n",
       " Timestamp('2019-07-29 00:00:00'): 0.3412541390410606,\n",
       " Timestamp('2020-05-27 00:00:00'): -0.07379308240167026}"
      ]
     },
     "execution_count": 85,
     "metadata": {},
     "output_type": "execute_result"
    }
   ],
   "source": [
    "resultado"
   ]
  },
  {
   "cell_type": "code",
   "execution_count": 86,
   "id": "84618d8c",
   "metadata": {},
   "outputs": [
    {
     "data": {
      "text/plain": [
       "2001-11-05   1.17\n",
       "2002-10-24   1.44\n",
       "2005-12-01   1.41\n",
       "2008-11-13   1.13\n",
       "2019-07-29   1.52\n",
       "2020-05-27   1.40\n",
       "dtype: float64"
      ]
     },
     "execution_count": 86,
     "metadata": {},
     "output_type": "execute_result"
    }
   ],
   "source": [
    "resultados_cumulativos"
   ]
  },
  {
   "cell_type": "code",
   "execution_count": 87,
   "id": "8ee0fd5d",
   "metadata": {},
   "outputs": [
    {
     "data": {
      "text/plain": [
       "<AxesSubplot:>"
      ]
     },
     "execution_count": 87,
     "metadata": {},
     "output_type": "execute_result"
    },
    {
     "data": {
      "image/png": "[encoded data removed]",
      "text/plain": [
       "<Figure size 1296x432 with 1 Axes>"
      ]
     },
     "metadata": {
      "needs_background": "light"
     },
     "output_type": "display_data"
    }
   ],
   "source": [
    "resultados_cumulativos.plot(figsize=(18, 6), grid=True)"
   ]
  },
  {
   "cell_type": "code",
   "execution_count": 88,
   "id": "d8010f82",
   "metadata": {},
   "outputs": [
    {
     "data": {
      "text/plain": [
       "<AxesSubplot:>"
      ]
     },
     "execution_count": 88,
     "metadata": {},
     "output_type": "execute_result"
    },
    {
     "data": {
      "image/png": "[encoded data removed]",
      "text/plain": [
       "<Figure size 1296x432 with 1 Axes>"
      ]
     },
     "metadata": {
      "needs_background": "light"
     },
     "output_type": "display_data"
    }
   ],
   "source": [
    "(((resultados_cumulativos / resultados_cumulativos.cummax()) - 1) * 100).plot(figsize=(18, 6), grid=True)"
   ]
  },
  {
   "cell_type": "code",
   "execution_count": 89,
   "id": "8235aef0",
   "metadata": {},
   "outputs": [
    {
     "data": {
      "text/plain": [
       "expectativa_matematica     7.49\n",
       "taxa_de_acerto            50.00\n",
       "drawdown máximo          -21.70\n",
       "payoff                     2.52\n",
       "numero de trades           6.00\n",
       "retorno total              1.40\n",
       "dtype: float64"
      ]
     },
     "execution_count": 89,
     "metadata": {},
     "output_type": "execute_result"
    }
   ],
   "source": [
    "avaliar_retornos(pd.Series(resultado), resultados_cumulativos)"
   ]
  },
  {
   "cell_type": "markdown",
   "id": "0cadeb68",
   "metadata": {},
   "source": [
    "#### Avaliando no teste"
   ]
  },
  {
   "cell_type": "code",
   "execution_count": null,
   "id": "ddb88fb5",
   "metadata": {},
   "outputs": [],
   "source": []
  },
  {
   "cell_type": "markdown",
   "id": "d72333ac",
   "metadata": {},
   "source": [
    "#### Avaliando em todo o período"
   ]
  },
  {
   "cell_type": "code",
   "execution_count": null,
   "id": "784ce3f6",
   "metadata": {},
   "outputs": [],
   "source": []
  },
  {
   "cell_type": "markdown",
   "id": "3b6bbbba",
   "metadata": {},
   "source": [
    "### Estratégia com indicador"
   ]
  },
  {
   "cell_type": "code",
   "execution_count": 90,
   "id": "8b5d56f4",
   "metadata": {},
   "outputs": [],
   "source": [
    "from ta.momentum import RSIIndicator"
   ]
  },
  {
   "cell_type": "code",
   "execution_count": 91,
   "id": "d2f16715",
   "metadata": {},
   "outputs": [],
   "source": [
    "rsi = RSIIndicator(\n",
    "    close=historico_dos_precos['Adj Close'],\n",
    "    window=14,\n",
    "    fillna=False\n",
    ").rsi()"
   ]
  },
  {
   "cell_type": "code",
   "execution_count": 93,
   "id": "efefd708",
   "metadata": {},
   "outputs": [
    {
     "data": {
      "text/plain": [
       "Date\n",
       "2000-01-05     NaN\n",
       "2000-01-06     NaN\n",
       "2000-01-07     NaN\n",
       "2000-01-10     NaN\n",
       "2000-01-11     NaN\n",
       "              ... \n",
       "2022-08-23   59.52\n",
       "2022-08-24   65.13\n",
       "2022-08-25   65.42\n",
       "2022-08-26   61.34\n",
       "2022-08-29   59.74\n",
       "Name: rsi, Length: 5692, dtype: float64"
      ]
     },
     "execution_count": 93,
     "metadata": {},
     "output_type": "execute_result"
    }
   ],
   "source": [
    "rsi"
   ]
  },
  {
   "cell_type": "markdown",
   "id": "2827cd02",
   "metadata": {},
   "source": [
    "#### Avaliando no treino"
   ]
  },
  {
   "cell_type": "markdown",
   "id": "f63bf1a7",
   "metadata": {},
   "source": [
    "#### Avaliando no teste"
   ]
  },
  {
   "cell_type": "markdown",
   "id": "540340ab",
   "metadata": {},
   "source": [
    "#### Avaliando em todo o período"
   ]
  }
 ],
 "metadata": {
  "kernelspec": {
   "display_name": "TradingModelsStudies",
   "language": "python",
   "name": "tradingmodelsstudies"
  },
  "language_info": {
   "codemirror_mode": {
    "name": "ipython",
    "version": 3
   },
   "file_extension": ".py",
   "mimetype": "text/x-python",
   "name": "python",
   "nbconvert_exporter": "python",
   "pygments_lexer": "ipython3",
   "version": "3.8.0"
  }
 },
 "nbformat": 4,
 "nbformat_minor": 5
}
