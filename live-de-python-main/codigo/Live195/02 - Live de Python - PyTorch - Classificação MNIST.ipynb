{
 "cells": [
  {
   "cell_type": "markdown",
   "id": "34fdbcd6",
   "metadata": {},
   "source": [
    "# <a> Classificação de Dígitos Escritos à Mão com PyTorch Básico </a>\n",
    "\n",
    "Vamos criar uma rede neural simples para criar um classificador para a famosa base de dados MNIST. Trata-se de imagens de dígitos escritos à mão onde é informada uma imagem e a rede deve dizer qual o número que está escrito.\n",
    "\n",
    "Para criar o classificador vamos utilizar uma rede neural simples para mostrar como utilizar as principais classes e métodos do PyTorch na arquitetura e criação de redes neurais."
   ]
  },
  {
   "cell_type": "code",
   "execution_count": 2,
   "id": "2176775c",
   "metadata": {},
   "outputs": [],
   "source": [
    "import numpy as np\n",
    "\n",
    "# não diga!?\n",
    "import torch\n",
    "\n",
    "# Modulo de redes neurais e de otimizador (como atualizar os coeficientes?)\n",
    "from torch import nn, optim\n",
    "\n",
    "# datasets já possui o MNIST\n",
    "# transforms para converter imagens para tensores (mas tem muitas outras aplicações para data augmentation)\n",
    "from torchvision import datasets, transforms\n",
    "\n",
    "# random_split para separarmos treino/validação\n",
    "# dataloader para definir os batches (lembrando que dataset são os dados e loaders é como eles são organizados em batches)\n",
    "from torch.utils.data import random_split, DataLoader"
   ]
  },
  {
   "cell_type": "code",
   "execution_count": 3,
   "id": "e1bc6515",
   "metadata": {},
   "outputs": [],
   "source": [
    "# Imagens do MNIST 28 * 28 pixels\n",
    "dimensao_mnist = 28\n",
    "\n",
    "\n",
    "# Sequential = pra quem tem preguiça de OO\n",
    "# Linear = fully connected\n",
    "# ReLU = rectified linear unit (nome chique pra: só passa positivo)\n",
    "\n",
    "modelo_simprao_mas_honesto = nn.Sequential(\n",
    "    nn.Linear(dimensao_mnist * dimensao_mnist, 128),\n",
    "    nn.ReLU(), # funcao relu\n",
    "    nn.Linear(128,128),\n",
    "    nn.ReLU(),\n",
    "    nn.Linear(128, 10)\n",
    ")"
   ]
  },
  {
   "cell_type": "code",
   "execution_count": 4,
   "id": "9c6668d0",
   "metadata": {},
   "outputs": [
    {
     "data": {
      "text/plain": [
       "Sequential(\n",
       "  (0): Linear(in_features=784, out_features=128, bias=True)\n",
       "  (1): ReLU()\n",
       "  (2): Linear(in_features=128, out_features=128, bias=True)\n",
       "  (3): ReLU()\n",
       "  (4): Linear(in_features=128, out_features=10, bias=True)\n",
       ")"
      ]
     },
     "execution_count": 4,
     "metadata": {},
     "output_type": "execute_result"
    }
   ],
   "source": [
    "modelo_simprao_mas_honesto"
   ]
  },
  {
   "cell_type": "code",
   "execution_count": 5,
   "id": "5e816d94",
   "metadata": {},
   "outputs": [],
   "source": [
    "# SGD - stochastic gradient descent\n",
    "otimizador = optim.SGD(modelo_simprao_mas_honesto.parameters(), lr=1e-2, momentum=0.9)"
   ]
  },
  {
   "cell_type": "code",
   "execution_count": 6,
   "id": "d5bb9853",
   "metadata": {},
   "outputs": [],
   "source": [
    "# Erro/Loss\n",
    "funcao_erro = nn.CrossEntropyLoss()"
   ]
  },
  {
   "cell_type": "code",
   "execution_count": 7,
   "id": "afcb4fd6",
   "metadata": {},
   "outputs": [],
   "source": [
    "# Baixar e transformar os dados em tensores PyTorch\n",
    "dados = datasets.MNIST('data', train=True, download=False, transform=transforms.ToTensor())"
   ]
  },
  {
   "cell_type": "code",
   "execution_count": 14,
   "id": "2a9f54bb",
   "metadata": {},
   "outputs": [
    {
     "data": {
      "text/plain": [
       "torchvision.datasets.mnist.MNIST"
      ]
     },
     "execution_count": 14,
     "metadata": {},
     "output_type": "execute_result"
    }
   ],
   "source": [
    "type(dados)"
   ]
  },
  {
   "cell_type": "code",
   "execution_count": 8,
   "id": "283c50a0",
   "metadata": {},
   "outputs": [
    {
     "data": {
      "text/plain": [
       "['0 - zero',\n",
       " '1 - one',\n",
       " '2 - two',\n",
       " '3 - three',\n",
       " '4 - four',\n",
       " '5 - five',\n",
       " '6 - six',\n",
       " '7 - seven',\n",
       " '8 - eight',\n",
       " '9 - nine']"
      ]
     },
     "execution_count": 8,
     "metadata": {},
     "output_type": "execute_result"
    }
   ],
   "source": [
    "dados.classes"
   ]
  },
  {
   "cell_type": "code",
   "execution_count": 9,
   "id": "f847b347",
   "metadata": {},
   "outputs": [
    {
     "data": {
      "text/plain": [
       "torch.Size([60000, 28, 28])"
      ]
     },
     "execution_count": 9,
     "metadata": {},
     "output_type": "execute_result"
    }
   ],
   "source": [
    "dados.data.size()"
   ]
  },
  {
   "cell_type": "code",
   "execution_count": 10,
   "id": "019e7527",
   "metadata": {
    "scrolled": true
   },
   "outputs": [
    {
     "data": {
      "text/plain": [
       "tensor([[  0,   0,   0,   0,   0,   0,   0,   0,   0,   0,   0,   0,   0,   0,\n",
       "           0,   0,   0,   0,   0,   0,   0,   0,   0,   0,   0,   0,   0,   0],\n",
       "        [  0,   0,   0,   0,   0,   0,   0,   0,   0,   0,   0,   0,   0,   0,\n",
       "           0,   0,   0,   0,   0,   0,   0,   0,   0,   0,   0,   0,   0,   0],\n",
       "        [  0,   0,   0,   0,   0,   0,   0,   0,   0,   0,   0,   0,   0,   0,\n",
       "           0,   0,   0,   0,   0,   0,   0,   0,   0,   0,   0,   0,   0,   0],\n",
       "        [  0,   0,   0,   0,   0,   0,   0,   0,   0,   0,   0,   0,   0,   0,\n",
       "           0,   0,   0,   0,   0,   0,   0,   0,   0,   0,   0,   0,   0,   0],\n",
       "        [  0,   0,   0,   0,   0,   0,   0,   0,   0,   0,   0,   0,   0,   0,\n",
       "           0,   0,   0,   0,   0,   0,   0,   0,   0,   0,   0,   0,   0,   0],\n",
       "        [  0,   0,   0,   0,   0,   0,   0,   0,   0,   0,   0,   0,   3,  18,\n",
       "          18,  18, 126, 136, 175,  26, 166, 255, 247, 127,   0,   0,   0,   0],\n",
       "        [  0,   0,   0,   0,   0,   0,   0,   0,  30,  36,  94, 154, 170, 253,\n",
       "         253, 253, 253, 253, 225, 172, 253, 242, 195,  64,   0,   0,   0,   0],\n",
       "        [  0,   0,   0,   0,   0,   0,   0,  49, 238, 253, 253, 253, 253, 253,\n",
       "         253, 253, 253, 251,  93,  82,  82,  56,  39,   0,   0,   0,   0,   0],\n",
       "        [  0,   0,   0,   0,   0,   0,   0,  18, 219, 253, 253, 253, 253, 253,\n",
       "         198, 182, 247, 241,   0,   0,   0,   0,   0,   0,   0,   0,   0,   0],\n",
       "        [  0,   0,   0,   0,   0,   0,   0,   0,  80, 156, 107, 253, 253, 205,\n",
       "          11,   0,  43, 154,   0,   0,   0,   0,   0,   0,   0,   0,   0,   0],\n",
       "        [  0,   0,   0,   0,   0,   0,   0,   0,   0,  14,   1, 154, 253,  90,\n",
       "           0,   0,   0,   0,   0,   0,   0,   0,   0,   0,   0,   0,   0,   0],\n",
       "        [  0,   0,   0,   0,   0,   0,   0,   0,   0,   0,   0, 139, 253, 190,\n",
       "           2,   0,   0,   0,   0,   0,   0,   0,   0,   0,   0,   0,   0,   0],\n",
       "        [  0,   0,   0,   0,   0,   0,   0,   0,   0,   0,   0,  11, 190, 253,\n",
       "          70,   0,   0,   0,   0,   0,   0,   0,   0,   0,   0,   0,   0,   0],\n",
       "        [  0,   0,   0,   0,   0,   0,   0,   0,   0,   0,   0,   0,  35, 241,\n",
       "         225, 160, 108,   1,   0,   0,   0,   0,   0,   0,   0,   0,   0,   0],\n",
       "        [  0,   0,   0,   0,   0,   0,   0,   0,   0,   0,   0,   0,   0,  81,\n",
       "         240, 253, 253, 119,  25,   0,   0,   0,   0,   0,   0,   0,   0,   0],\n",
       "        [  0,   0,   0,   0,   0,   0,   0,   0,   0,   0,   0,   0,   0,   0,\n",
       "          45, 186, 253, 253, 150,  27,   0,   0,   0,   0,   0,   0,   0,   0],\n",
       "        [  0,   0,   0,   0,   0,   0,   0,   0,   0,   0,   0,   0,   0,   0,\n",
       "           0,  16,  93, 252, 253, 187,   0,   0,   0,   0,   0,   0,   0,   0],\n",
       "        [  0,   0,   0,   0,   0,   0,   0,   0,   0,   0,   0,   0,   0,   0,\n",
       "           0,   0,   0, 249, 253, 249,  64,   0,   0,   0,   0,   0,   0,   0],\n",
       "        [  0,   0,   0,   0,   0,   0,   0,   0,   0,   0,   0,   0,   0,   0,\n",
       "          46, 130, 183, 253, 253, 207,   2,   0,   0,   0,   0,   0,   0,   0],\n",
       "        [  0,   0,   0,   0,   0,   0,   0,   0,   0,   0,   0,   0,  39, 148,\n",
       "         229, 253, 253, 253, 250, 182,   0,   0,   0,   0,   0,   0,   0,   0],\n",
       "        [  0,   0,   0,   0,   0,   0,   0,   0,   0,   0,  24, 114, 221, 253,\n",
       "         253, 253, 253, 201,  78,   0,   0,   0,   0,   0,   0,   0,   0,   0],\n",
       "        [  0,   0,   0,   0,   0,   0,   0,   0,  23,  66, 213, 253, 253, 253,\n",
       "         253, 198,  81,   2,   0,   0,   0,   0,   0,   0,   0,   0,   0,   0],\n",
       "        [  0,   0,   0,   0,   0,   0,  18, 171, 219, 253, 253, 253, 253, 195,\n",
       "          80,   9,   0,   0,   0,   0,   0,   0,   0,   0,   0,   0,   0,   0],\n",
       "        [  0,   0,   0,   0,  55, 172, 226, 253, 253, 253, 253, 244, 133,  11,\n",
       "           0,   0,   0,   0,   0,   0,   0,   0,   0,   0,   0,   0,   0,   0],\n",
       "        [  0,   0,   0,   0, 136, 253, 253, 253, 212, 135, 132,  16,   0,   0,\n",
       "           0,   0,   0,   0,   0,   0,   0,   0,   0,   0,   0,   0,   0,   0],\n",
       "        [  0,   0,   0,   0,   0,   0,   0,   0,   0,   0,   0,   0,   0,   0,\n",
       "           0,   0,   0,   0,   0,   0,   0,   0,   0,   0,   0,   0,   0,   0],\n",
       "        [  0,   0,   0,   0,   0,   0,   0,   0,   0,   0,   0,   0,   0,   0,\n",
       "           0,   0,   0,   0,   0,   0,   0,   0,   0,   0,   0,   0,   0,   0],\n",
       "        [  0,   0,   0,   0,   0,   0,   0,   0,   0,   0,   0,   0,   0,   0,\n",
       "           0,   0,   0,   0,   0,   0,   0,   0,   0,   0,   0,   0,   0,   0]],\n",
       "       dtype=torch.uint8)"
      ]
     },
     "execution_count": 10,
     "metadata": {},
     "output_type": "execute_result"
    }
   ],
   "source": [
    "dados.data[0]"
   ]
  },
  {
   "cell_type": "code",
   "execution_count": 11,
   "id": "7e3a68df",
   "metadata": {},
   "outputs": [
    {
     "data": {
      "text/plain": [
       "tensor(5)"
      ]
     },
     "execution_count": 11,
     "metadata": {},
     "output_type": "execute_result"
    }
   ],
   "source": [
    "dados.targets[0]"
   ]
  },
  {
   "cell_type": "code",
   "execution_count": 12,
   "id": "82ef56d8",
   "metadata": {},
   "outputs": [
    {
     "data": {
      "image/png": "[encoded data removed]",
      "text/plain": [
       "<Figure size 432x288 with 6 Axes>"
      ]
     },
     "metadata": {},
     "output_type": "display_data"
    }
   ],
   "source": [
    "# https://nextjournal.com/gkoehler/pytorch-mnist\n",
    "from matplotlib import pyplot as plt\n",
    "\n",
    "fig = plt.figure()\n",
    "\n",
    "for i in range(6):\n",
    "    plt.subplot(2,3,i+1)\n",
    "    plt.tight_layout()\n",
    "    plt.imshow(dados.data[i], cmap='gray', interpolation='none')\n",
    "    plt.title(\"Label: {}\".format(dados.targets[i]))\n",
    "    plt.xticks([])\n",
    "    plt.yticks([])"
   ]
  },
  {
   "cell_type": "code",
   "execution_count": 13,
   "id": "edf0c81f",
   "metadata": {},
   "outputs": [],
   "source": [
    "# Split de treino e validação (na vida real, treino, valid e teste hein, galera!!)\n",
    "treino, validacao = random_split(dados, [55000, 5000])"
   ]
  },
  {
   "cell_type": "code",
   "execution_count": 15,
   "id": "97887f4c",
   "metadata": {},
   "outputs": [],
   "source": [
    "# Base de dados tá pronta! Mas vamos criar os batches pra atualizar\n",
    "# os coeficientes a cada batch (ao invés de atualizar imagem por imagem)\n",
    "loader_treino = DataLoader(treino, batch_size=32)\n",
    "loader_validacao = DataLoader(validacao, batch_size=32)"
   ]
  },
  {
   "cell_type": "code",
   "execution_count": 16,
   "id": "110d740e",
   "metadata": {},
   "outputs": [],
   "source": [
    "# Numero de épocas (cada passagem pelo conjunto de treino)\n",
    "epocas = 10"
   ]
  },
  {
   "cell_type": "code",
   "execution_count": 17,
   "id": "899280af",
   "metadata": {},
   "outputs": [
    {
     "name": "stdout",
     "output_type": "stream",
     "text": [
      "Ep: 1, Erro treino: 0.17, Acc treino: 0.88, Acc valid: 0.94\n",
      "Ep: 2, Erro treino: 0.13, Acc treino: 0.96, Acc valid: 0.95\n",
      "Ep: 3, Erro treino: 0.09, Acc treino: 0.97, Acc valid: 0.96\n",
      "Ep: 4, Erro treino: 0.05, Acc treino: 0.98, Acc valid: 0.96\n",
      "Ep: 5, Erro treino: 0.04, Acc treino: 0.98, Acc valid: 0.96\n",
      "Ep: 6, Erro treino: 0.03, Acc treino: 0.99, Acc valid: 0.97\n",
      "Ep: 7, Erro treino: 0.03, Acc treino: 0.99, Acc valid: 0.97\n",
      "Ep: 8, Erro treino: 0.01, Acc treino: 0.99, Acc valid: 0.97\n",
      "Ep: 9, Erro treino: 0.01, Acc treino: 0.99, Acc valid: 0.97\n",
      "Ep: 10, Erro treino: 0.01, Acc treino: 1.00, Acc valid: 0.97\n"
     ]
    }
   ],
   "source": [
    "# Passa por todos os datapoints de treino\n",
    "for epoca in range(epocas):\n",
    "    acertos_treino = 0\n",
    "    acertos_validacao = 0\n",
    "\n",
    "    # TREINO\n",
    "    # Vamos iterar por cada batch (ou seja, de 32 em 32)\n",
    "    for batch in loader_treino:\n",
    "        # x é o tensor da imagem do dígito\n",
    "        # y é o label, ou seja, esse garrancho que o cara/mina escreveu\n",
    "        # é que número??\n",
    "        x, y_real = batch\n",
    "        \n",
    "        # b é a quantidade de imagens no batch\n",
    "        b = x.size(0)\n",
    "        \n",
    "        # view é o \"reshape\" do tensor, aqui estamos criando\n",
    "        # 32 linhas de 784 colunas (cada linha 1 imagem do batch)\n",
    "        x = x.view(b, -1) # tipo o reshape do numpy\n",
    "        \n",
    "        # forward pass\n",
    "        y_previsto = modelo_simprao_mas_honesto(x)\n",
    "        \n",
    "        # calcular o erro (funcao de perda/loss)\n",
    "        erro = funcao_erro(y_previsto, y_real)\n",
    "        \n",
    "        # Calcular as predições corretas\n",
    "        # y_previsto tem 32 linhas com 10 posições cada\n",
    "        # torch max busca os maiores valores de cada array na dimensão informada\n",
    "        # max[0] traz os máximos, max[1] os argmax, que, no nosso caso, é o dígito de \n",
    "        # maior probabilidade\n",
    "        predicoes = torch.max(y_previsto.data, 1)[1]\n",
    "        \n",
    "        acertos_batch = (predicoes == y_real).sum()\n",
    "        acertos_treino += acertos_batch\n",
    "        \n",
    "        # limpar os gradientes, do contrário ele acumula!\n",
    "        # como queremos atualizar os coeficientes por batch, temos que zerar os gradientes\n",
    "        modelo_simprao_mas_honesto.zero_grad()\n",
    "        \n",
    "        # Lembra do Autograd??? Vamos calcular as derivadas parciais (início do backpropagation)\n",
    "        erro.backward()\n",
    "        \n",
    "        # atualizar os coeficientes a partir do otimizador\n",
    "        otimizador.step()\n",
    "        \n",
    "    # VALIDACAO\n",
    "    # Agora é a hora de calcular o erro na validação!\n",
    "    # Como a gente não quer atualizar os gradientes (só fazer a previsão do modelo treinado)\n",
    "    # vamos desligar o autograd\n",
    "    with torch.no_grad():\n",
    "        for batch in loader_validacao:\n",
    "            x, y_real = batch\n",
    "            \n",
    "            b = x.size(0)\n",
    "            x = x.view(b, -1)\n",
    "            \n",
    "            # forward pass: mais conhecido como predição do modelo treinado\n",
    "            y_previsto = modelo_simprao_mas_honesto(x)\n",
    "            \n",
    "            # Calcular as predições corretas na validação\n",
    "            predicoes = torch.max(y_previsto.data, 1)[1] # previsão com maior probabilidade\n",
    "            acertos_batch = (predicoes == y_real).sum()\n",
    "            acertos_validacao += acertos_batch\n",
    "    \n",
    "    print(f'Ep: {epoca + 1}, Erro treino: {erro.item():.2f}, Acc treino: {acertos_treino/len(treino):.2f}, Acc valid: {acertos_validacao/len(validacao):.2f}')"
   ]
  },
  {
   "cell_type": "code",
   "execution_count": 18,
   "id": "ad5777b6",
   "metadata": {},
   "outputs": [
    {
     "data": {
      "text/plain": [
       "tensor([[[0.0000, 0.0000, 0.0000, 0.0000, 0.0000, 0.0000, 0.0000, 0.0000,\n",
       "          0.0000, 0.0000, 0.0000, 0.0000, 0.0000, 0.0000, 0.0000, 0.0000,\n",
       "          0.0000, 0.0000, 0.0000, 0.0000, 0.0000, 0.0000, 0.0000, 0.0000,\n",
       "          0.0000, 0.0000, 0.0000, 0.0000],\n",
       "         [0.0000, 0.0000, 0.0000, 0.0000, 0.0000, 0.0000, 0.0000, 0.0000,\n",
       "          0.0000, 0.0000, 0.0000, 0.0000, 0.0000, 0.0000, 0.0000, 0.0000,\n",
       "          0.0000, 0.0000, 0.0000, 0.0000, 0.0000, 0.0000, 0.0000, 0.0000,\n",
       "          0.0000, 0.0000, 0.0000, 0.0000],\n",
       "         [0.0000, 0.0000, 0.0000, 0.0000, 0.0000, 0.0000, 0.0000, 0.0000,\n",
       "          0.0000, 0.0000, 0.0000, 0.0000, 0.0000, 0.0000, 0.0000, 0.0000,\n",
       "          0.0000, 0.0000, 0.0000, 0.0000, 0.0000, 0.0000, 0.0000, 0.0000,\n",
       "          0.0000, 0.0000, 0.0000, 0.0000],\n",
       "         [0.0000, 0.0000, 0.0000, 0.0000, 0.0000, 0.0000, 0.0000, 0.0000,\n",
       "          0.0000, 0.0000, 0.0000, 0.0000, 0.0000, 0.0000, 0.0000, 0.0000,\n",
       "          0.0000, 0.0000, 0.0000, 0.0000, 0.0000, 0.0000, 0.0000, 0.0000,\n",
       "          0.0000, 0.0000, 0.0000, 0.0000],\n",
       "         [0.0000, 0.0000, 0.0000, 0.0000, 0.0000, 0.0000, 0.0000, 0.0000,\n",
       "          0.0000, 0.0000, 0.0000, 0.0000, 0.0000, 0.0000, 0.3490, 0.3765,\n",
       "          0.9961, 1.0000, 0.9961, 0.8941, 0.3569, 0.0471, 0.0000, 0.0000,\n",
       "          0.0000, 0.0000, 0.0000, 0.0000],\n",
       "         [0.0000, 0.0000, 0.0000, 0.0000, 0.0000, 0.0000, 0.0000, 0.0000,\n",
       "          0.0000, 0.0000, 0.0000, 0.0000, 0.0588, 0.0667, 0.9686, 0.9922,\n",
       "          0.9922, 0.9922, 0.9922, 0.9922, 0.9922, 0.5961, 0.0275, 0.0000,\n",
       "          0.0000, 0.0000, 0.0000, 0.0000],\n",
       "         [0.0000, 0.0000, 0.0000, 0.0000, 0.0000, 0.0000, 0.0000, 0.0000,\n",
       "          0.0000, 0.0000, 0.0000, 0.0000, 0.9020, 0.9922, 0.9922, 0.9922,\n",
       "          0.9922, 0.9922, 0.9922, 0.9922, 0.9922, 0.9922, 0.6549, 0.2980,\n",
       "          0.0000, 0.0000, 0.0000, 0.0000],\n",
       "         [0.0000, 0.0000, 0.0000, 0.0000, 0.0000, 0.0000, 0.0000, 0.0000,\n",
       "          0.0000, 0.0000, 0.0000, 0.0745, 0.9137, 0.9922, 0.9922, 0.9922,\n",
       "          0.9922, 0.9922, 0.9922, 0.9922, 0.9922, 0.9922, 0.9922, 0.7020,\n",
       "          0.0000, 0.0000, 0.0000, 0.0000],\n",
       "         [0.0000, 0.0000, 0.0000, 0.0000, 0.0000, 0.0000, 0.0000, 0.0000,\n",
       "          0.0000, 0.0000, 0.0000, 0.5451, 0.9922, 0.9922, 0.9922, 0.9922,\n",
       "          0.8039, 0.5059, 0.5059, 0.5843, 0.9922, 0.9922, 0.9922, 0.7020,\n",
       "          0.0000, 0.0000, 0.0000, 0.0000],\n",
       "         [0.0000, 0.0000, 0.0000, 0.0000, 0.0000, 0.0000, 0.0000, 0.0000,\n",
       "          0.0000, 0.0000, 0.2902, 0.9216, 0.9922, 0.9922, 0.9294, 0.7765,\n",
       "          0.0980, 0.0000, 0.0000, 0.0275, 0.4902, 0.9686, 0.9922, 0.7020,\n",
       "          0.0000, 0.0000, 0.0000, 0.0000],\n",
       "         [0.0000, 0.0000, 0.0000, 0.0000, 0.0000, 0.0000, 0.0000, 0.0000,\n",
       "          0.0000, 0.0000, 0.8353, 0.9922, 0.9922, 0.9922, 0.3176, 0.0000,\n",
       "          0.0000, 0.0000, 0.0000, 0.0000, 0.0000, 0.8706, 0.9922, 0.7020,\n",
       "          0.0000, 0.0000, 0.0000, 0.0000],\n",
       "         [0.0000, 0.0000, 0.0000, 0.0000, 0.0000, 0.0000, 0.0000, 0.0000,\n",
       "          0.0000, 0.4431, 0.9765, 0.9922, 0.9255, 0.3412, 0.0039, 0.0000,\n",
       "          0.0000, 0.0000, 0.0000, 0.0000, 0.1373, 0.9020, 0.9922, 0.7020,\n",
       "          0.0000, 0.0000, 0.0000, 0.0000],\n",
       "         [0.0000, 0.0000, 0.0000, 0.0000, 0.0000, 0.0000, 0.0000, 0.0000,\n",
       "          0.0824, 0.7961, 0.9922, 0.9922, 0.3412, 0.0000, 0.0000, 0.0000,\n",
       "          0.0000, 0.0000, 0.0000, 0.0000, 0.5137, 0.9922, 0.9922, 0.7020,\n",
       "          0.0000, 0.0000, 0.0000, 0.0000],\n",
       "         [0.0000, 0.0000, 0.0000, 0.0000, 0.0000, 0.0000, 0.0000, 0.0000,\n",
       "          0.7569, 0.9922, 0.9922, 0.9922, 0.0941, 0.0000, 0.0000, 0.0000,\n",
       "          0.0000, 0.0000, 0.0000, 0.0549, 0.6706, 0.9922, 0.9922, 0.7020,\n",
       "          0.0000, 0.0000, 0.0000, 0.0000],\n",
       "         [0.0000, 0.0000, 0.0000, 0.0000, 0.0000, 0.0000, 0.0039, 0.3059,\n",
       "          0.9216, 0.9922, 0.9843, 0.6039, 0.0314, 0.0000, 0.0000, 0.0000,\n",
       "          0.0000, 0.0000, 0.0000, 0.1843, 0.9922, 0.9922, 0.9725, 0.2627,\n",
       "          0.0000, 0.0000, 0.0000, 0.0000],\n",
       "         [0.0000, 0.0000, 0.0000, 0.0000, 0.0000, 0.0000, 0.3176, 0.9922,\n",
       "          0.9922, 0.9922, 0.5451, 0.0000, 0.0000, 0.0000, 0.0000, 0.0000,\n",
       "          0.0000, 0.0000, 0.1765, 0.8784, 0.9922, 0.9020, 0.2549, 0.0000,\n",
       "          0.0000, 0.0000, 0.0000, 0.0000],\n",
       "         [0.0000, 0.0000, 0.0000, 0.0000, 0.0000, 0.0000, 0.7059, 0.9922,\n",
       "          0.9922, 0.9922, 0.1569, 0.0000, 0.0000, 0.0000, 0.0000, 0.0000,\n",
       "          0.0000, 0.1373, 0.8549, 0.9922, 0.9922, 0.7647, 0.0000, 0.0000,\n",
       "          0.0000, 0.0000, 0.0000, 0.0000],\n",
       "         [0.0000, 0.0000, 0.0000, 0.0000, 0.0000, 0.0000, 0.7059, 0.9922,\n",
       "          0.9922, 0.7725, 0.0863, 0.0000, 0.0000, 0.0000, 0.0000, 0.0157,\n",
       "          0.4549, 0.8549, 0.9922, 0.9922, 0.9922, 0.4745, 0.0000, 0.0000,\n",
       "          0.0000, 0.0000, 0.0000, 0.0000],\n",
       "         [0.0000, 0.0000, 0.0000, 0.0000, 0.0000, 0.0588, 0.7529, 0.9922,\n",
       "          0.9922, 0.5843, 0.0275, 0.0000, 0.1490, 0.1647, 0.3725, 0.8118,\n",
       "          0.9922, 0.9922, 0.9922, 0.9647, 0.4980, 0.0235, 0.0000, 0.0000,\n",
       "          0.0000, 0.0000, 0.0000, 0.0000],\n",
       "         [0.0000, 0.0000, 0.0000, 0.0000, 0.0000, 0.3569, 0.9922, 0.9922,\n",
       "          0.9922, 0.9922, 0.5882, 0.5137, 0.9490, 0.9922, 0.9922, 0.9922,\n",
       "          0.9922, 0.9922, 0.9922, 0.8314, 0.0000, 0.0000, 0.0000, 0.0000,\n",
       "          0.0000, 0.0000, 0.0000, 0.0000],\n",
       "         [0.0000, 0.0000, 0.0000, 0.0000, 0.0000, 0.2745, 0.9255, 0.9922,\n",
       "          0.9922, 0.9922, 0.9922, 0.9922, 0.9922, 0.9922, 0.9922, 0.9922,\n",
       "          0.9922, 0.9686, 0.4745, 0.1059, 0.0000, 0.0000, 0.0000, 0.0000,\n",
       "          0.0000, 0.0000, 0.0000, 0.0000],\n",
       "         [0.0000, 0.0000, 0.0000, 0.0000, 0.0000, 0.0000, 0.7059, 0.9922,\n",
       "          0.9922, 0.9922, 0.9922, 0.9922, 0.9922, 0.9922, 0.9922, 0.9922,\n",
       "          0.9922, 0.5176, 0.0000, 0.0000, 0.0000, 0.0000, 0.0000, 0.0000,\n",
       "          0.0000, 0.0000, 0.0000, 0.0000],\n",
       "         [0.0000, 0.0000, 0.0000, 0.0000, 0.0000, 0.0000, 0.5020, 0.8235,\n",
       "          0.9922, 0.9922, 0.9922, 0.9922, 0.9922, 0.9922, 0.8980, 0.6784,\n",
       "          0.0588, 0.0157, 0.0000, 0.0000, 0.0000, 0.0000, 0.0000, 0.0000,\n",
       "          0.0000, 0.0000, 0.0000, 0.0000],\n",
       "         [0.0000, 0.0000, 0.0000, 0.0000, 0.0000, 0.0000, 0.0000, 0.1490,\n",
       "          0.3490, 0.6588, 0.9922, 0.9922, 0.4078, 0.3490, 0.2353, 0.0000,\n",
       "          0.0000, 0.0000, 0.0000, 0.0000, 0.0000, 0.0000, 0.0000, 0.0000,\n",
       "          0.0000, 0.0000, 0.0000, 0.0000],\n",
       "         [0.0000, 0.0000, 0.0000, 0.0000, 0.0000, 0.0000, 0.0000, 0.0000,\n",
       "          0.0000, 0.0000, 0.0000, 0.0000, 0.0000, 0.0000, 0.0000, 0.0000,\n",
       "          0.0000, 0.0000, 0.0000, 0.0000, 0.0000, 0.0000, 0.0000, 0.0000,\n",
       "          0.0000, 0.0000, 0.0000, 0.0000],\n",
       "         [0.0000, 0.0000, 0.0000, 0.0000, 0.0000, 0.0000, 0.0000, 0.0000,\n",
       "          0.0000, 0.0000, 0.0000, 0.0000, 0.0000, 0.0000, 0.0000, 0.0000,\n",
       "          0.0000, 0.0000, 0.0000, 0.0000, 0.0000, 0.0000, 0.0000, 0.0000,\n",
       "          0.0000, 0.0000, 0.0000, 0.0000],\n",
       "         [0.0000, 0.0000, 0.0000, 0.0000, 0.0000, 0.0000, 0.0000, 0.0000,\n",
       "          0.0000, 0.0000, 0.0000, 0.0000, 0.0000, 0.0000, 0.0000, 0.0000,\n",
       "          0.0000, 0.0000, 0.0000, 0.0000, 0.0000, 0.0000, 0.0000, 0.0000,\n",
       "          0.0000, 0.0000, 0.0000, 0.0000],\n",
       "         [0.0000, 0.0000, 0.0000, 0.0000, 0.0000, 0.0000, 0.0000, 0.0000,\n",
       "          0.0000, 0.0000, 0.0000, 0.0000, 0.0000, 0.0000, 0.0000, 0.0000,\n",
       "          0.0000, 0.0000, 0.0000, 0.0000, 0.0000, 0.0000, 0.0000, 0.0000,\n",
       "          0.0000, 0.0000, 0.0000, 0.0000]]])"
      ]
     },
     "execution_count": 18,
     "metadata": {},
     "output_type": "execute_result"
    }
   ],
   "source": [
    "validacao[2][0]"
   ]
  },
  {
   "cell_type": "code",
   "execution_count": 19,
   "id": "c85effe6",
   "metadata": {},
   "outputs": [
    {
     "data": {
      "text/plain": [
       "0"
      ]
     },
     "execution_count": 19,
     "metadata": {},
     "output_type": "execute_result"
    }
   ],
   "source": [
    "validacao[2][1]"
   ]
  },
  {
   "cell_type": "code",
   "execution_count": 20,
   "id": "fda2df55",
   "metadata": {},
   "outputs": [
    {
     "data": {
      "text/plain": [
       "tensor(0)"
      ]
     },
     "execution_count": 20,
     "metadata": {},
     "output_type": "execute_result"
    }
   ],
   "source": [
    "b = validacao[2][0].size(0)\n",
    "x = validacao[2][0].view(b, -1)\n",
    "resultado = modelo_simprao_mas_honesto(x)\n",
    "resultado.argmax()"
   ]
  },
  {
   "cell_type": "code",
   "execution_count": null,
   "id": "8eb2f31e",
   "metadata": {},
   "outputs": [],
   "source": [
    "validacao[2][0].size(0)"
   ]
  },
  {
   "cell_type": "code",
   "execution_count": null,
   "id": "1aa7213a",
   "metadata": {},
   "outputs": [],
   "source": [
    "validacao[2][0].size(1), validacao[2][0].size(2)"
   ]
  },
  {
   "cell_type": "code",
   "execution_count": null,
   "id": "a0f3964d",
   "metadata": {},
   "outputs": [],
   "source": [
    "dados.classes"
   ]
  },
  {
   "cell_type": "code",
   "execution_count": 21,
   "id": "df252f54",
   "metadata": {},
   "outputs": [],
   "source": [
    "#LABELS = dados.classes\n",
    "\n",
    "def predizer_garrancho(garrancho):\n",
    "    # a imagem vem em 2 dimensoes, mas o modelo requer 3\n",
    "    # /255 pra normalizar os valores dos pixels\n",
    "    garrancho = garrancho.reshape(-1, 28, 28) / 255.\n",
    "    \n",
    "    # Tranformando numpy em torch\n",
    "    x = torch.tensor(garrancho, dtype=torch.float32)\n",
    "    \n",
    "    b = x.size(0)\n",
    "    x = x.view(b, -1)\n",
    "    \n",
    "    with torch.no_grad():\n",
    "        out = modelo_simprao_mas_honesto(x)\n",
    "    \n",
    "    return out.argmax()\n",
    "\n"
   ]
  },
  {
   "cell_type": "code",
   "execution_count": 22,
   "id": "87f6c695",
   "metadata": {},
   "outputs": [
    {
     "name": "stdout",
     "output_type": "stream",
     "text": [
      "Running on local URL:  http://127.0.0.1:7860/\n",
      "Running on public URL: https://26584.gradio.app\n",
      "\n",
      "This share link expires in 72 hours. For free permanent hosting, check out Spaces (https://huggingface.co/spaces)\n"
     ]
    },
    {
     "data": {
      "text/html": [
       "\n",
       "        <iframe\n",
       "            width=\"900\"\n",
       "            height=\"500\"\n",
       "            src=\"https://26584.gradio.app\"\n",
       "            frameborder=\"0\"\n",
       "            allowfullscreen\n",
       "            \n",
       "        ></iframe>\n",
       "        "
      ],
      "text/plain": [
       "<IPython.lib.display.IFrame at 0x21f355d8f88>"
      ]
     },
     "metadata": {},
     "output_type": "display_data"
    },
    {
     "data": {
      "text/plain": [
       "(<fastapi.applications.FastAPI at 0x21f32be1b08>,\n",
       " 'http://127.0.0.1:7860/',\n",
       " 'https://26584.gradio.app')"
      ]
     },
     "execution_count": 22,
     "metadata": {},
     "output_type": "execute_result"
    }
   ],
   "source": [
    "import gradio as gr\n",
    "\n",
    "gr.Interface(fn=predizer_garrancho, \n",
    "             inputs=\"sketchpad\",\n",
    "             outputs=\"textbox\",\n",
    "             live=True).launch(share=True)"
   ]
  },
  {
   "cell_type": "code",
   "execution_count": null,
   "id": "98b06199",
   "metadata": {},
   "outputs": [],
   "source": [
    "# Como seria nosso mesmo modelo usando o nn.Module??\n",
    "\n",
    "class ModeloOO(nn.Module):\n",
    "    def __init__(self, input_size=28**2, output_size=10, layers=[128,128]):\n",
    "        super().__init__()\n",
    "        self.l1 = nn.Linear(input_size, layers[0])\n",
    "        self.l2 = nn.Linear(layers[0], layers[1])\n",
    "        self.l3 = nn.Linear(layers[1], output_size)\n",
    "\n",
    "    def forward(self, X):\n",
    "        X = nn.functional.relu(self.l1(X))\n",
    "        X = nn.functional.relu(self.l2(X))\n",
    "        X = self.l3(X)\n",
    "        \n",
    "        return nn.functional.log_softmax(X, dim=1)\n",
    "\n",
    "\n",
    "model = ModeloOO()\n",
    "print(model)"
   ]
  },
  {
   "cell_type": "code",
   "execution_count": null,
   "id": "86855e49",
   "metadata": {},
   "outputs": [],
   "source": []
  }
 ],
 "metadata": {
  "kernelspec": {
   "display_name": "Python 3 (ipykernel)",
   "language": "python",
   "name": "python3"
  },
  "language_info": {
   "codemirror_mode": {
    "name": "ipython",
    "version": 3
   },
   "file_extension": ".py",
   "mimetype": "text/x-python",
   "name": "python",
   "nbconvert_exporter": "python",
   "pygments_lexer": "ipython3",
   "version": "3.7.8"
  }
 },
 "nbformat": 4,
 "nbformat_minor": 5
}
