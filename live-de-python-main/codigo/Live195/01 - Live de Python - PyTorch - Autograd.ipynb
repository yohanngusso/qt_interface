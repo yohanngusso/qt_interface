{
 "cells": [
  {
   "cell_type": "markdown",
   "id": "5fdefe2a",
   "metadata": {},
   "source": [
    "# <a>PyTorch Autograd</a>\n",
    "\n",
    "Uma das características mais interessantes do PyTorch é sua capacidade de calcular automaticaente as derivadas parciais e armazená-las nos tensores. Com o Autograd isso é possível. \n",
    "\n",
    "Apesar desse cálculo todo ficar \"por debaixo dos panos\", é interessante conhecer um pouco para entender a \"mágica\" de como a biblioteca facilita o uso do gradiente descendente para otimização de funções, muito utilizadas para treinamento de redes neurais, por exemplo.\n",
    "\n",
    "Nos baseamos [nesse vídeo](https://www.youtube.com/watch?v=Poc0X5fS9us) do mestre dos mestres Abhishek Thakur para criar esse notebook.\n",
    "\n",
    "Mas antes, vamos ver um pouquinho da integração dos tensores do PyTorch com o Numpy e como utilizar GPU para armazenar os tensores."
   ]
  },
  {
   "cell_type": "code",
   "execution_count": 1,
   "id": "f417c793",
   "metadata": {},
   "outputs": [],
   "source": [
    "import numpy as np\n",
    "import torch"
   ]
  },
  {
   "cell_type": "code",
   "execution_count": 2,
   "id": "25fe5a68",
   "metadata": {},
   "outputs": [
    {
     "data": {
      "text/plain": [
       "array([[1, 2],\n",
       "       [3, 4]])"
      ]
     },
     "execution_count": 2,
     "metadata": {},
     "output_type": "execute_result"
    }
   ],
   "source": [
    "# Bom e velho np array\n",
    "array_np = np.array([[1,2],[3,4]])\n",
    "array_np"
   ]
  },
  {
   "cell_type": "code",
   "execution_count": 4,
   "id": "fb835d44",
   "metadata": {},
   "outputs": [
    {
     "data": {
      "text/plain": [
       "(2, 2)"
      ]
     },
     "execution_count": 4,
     "metadata": {},
     "output_type": "execute_result"
    }
   ],
   "source": [
    "array_np.shape"
   ]
  },
  {
   "cell_type": "code",
   "execution_count": 5,
   "id": "acbc020b",
   "metadata": {},
   "outputs": [
    {
     "data": {
      "text/plain": [
       "tensor([[1, 2],\n",
       "        [3, 4]], dtype=torch.int32)"
      ]
     },
     "execution_count": 5,
     "metadata": {},
     "output_type": "execute_result"
    }
   ],
   "source": [
    "# Convertendo de duas formas diferentes\n",
    "tensor_pt = torch.tensor(array_np)\n",
    "tensor_pt"
   ]
  },
  {
   "cell_type": "code",
   "execution_count": 6,
   "id": "4da5653b",
   "metadata": {},
   "outputs": [
    {
     "data": {
      "text/plain": [
       "tensor([[1, 2],\n",
       "        [3, 4]], dtype=torch.int32)"
      ]
     },
     "execution_count": 6,
     "metadata": {},
     "output_type": "execute_result"
    }
   ],
   "source": [
    "tensor_pt = torch.from_numpy(array_np)\n",
    "tensor_pt"
   ]
  },
  {
   "cell_type": "code",
   "execution_count": 7,
   "id": "6dabfe37",
   "metadata": {},
   "outputs": [
    {
     "data": {
      "text/plain": [
       "torch.Tensor"
      ]
     },
     "execution_count": 7,
     "metadata": {},
     "output_type": "execute_result"
    }
   ],
   "source": [
    "type(tensor_pt)"
   ]
  },
  {
   "cell_type": "code",
   "execution_count": 8,
   "id": "eaa1d751",
   "metadata": {},
   "outputs": [
    {
     "data": {
      "text/plain": [
       "array([[1, 2],\n",
       "       [3, 4]])"
      ]
     },
     "execution_count": 8,
     "metadata": {},
     "output_type": "execute_result"
    }
   ],
   "source": [
    "# A volta também é fácil\n",
    "tensor_pt.numpy()"
   ]
  },
  {
   "cell_type": "code",
   "execution_count": 9,
   "id": "a09639a0",
   "metadata": {},
   "outputs": [
    {
     "data": {
      "text/plain": [
       "numpy.ndarray"
      ]
     },
     "execution_count": 9,
     "metadata": {},
     "output_type": "execute_result"
    }
   ],
   "source": [
    "type(tensor_pt.numpy())"
   ]
  },
  {
   "cell_type": "code",
   "execution_count": 10,
   "id": "da12bc6d",
   "metadata": {},
   "outputs": [
    {
     "data": {
      "text/plain": [
       "torch.Size([2, 2])"
      ]
     },
     "execution_count": 10,
     "metadata": {},
     "output_type": "execute_result"
    }
   ],
   "source": [
    "tensor_pt.size()"
   ]
  },
  {
   "cell_type": "markdown",
   "id": "d94148a4",
   "metadata": {},
   "source": [
    "### <a> E GPU? Temos uma fuleirinha aqui pra testar, pelo menos! </a>\n",
    "\n",
    "Lembrando que temos que estar com ambiente NVIDIA no SO bem certinho, com CUDA drivers e [cuDNN](https://docs.nvidia.com/deeplearning/cudnn/install-guide/index.html)"
   ]
  },
  {
   "cell_type": "code",
   "execution_count": 11,
   "id": "000772f6",
   "metadata": {},
   "outputs": [
    {
     "data": {
      "text/plain": [
       "True"
      ]
     },
     "execution_count": 11,
     "metadata": {},
     "output_type": "execute_result"
    }
   ],
   "source": [
    "# Primeiro testando se tem GPU disponível\n",
    "torch.cuda.is_available()"
   ]
  },
  {
   "cell_type": "code",
   "execution_count": 12,
   "id": "c28463c0",
   "metadata": {},
   "outputs": [
    {
     "data": {
      "text/plain": [
       "device(type='cuda')"
      ]
     },
     "execution_count": 12,
     "metadata": {},
     "output_type": "execute_result"
    }
   ],
   "source": [
    "# Localizando a(s) GPU(s) disponível(eis)\n",
    "plaquinha_fueba = torch.device('cuda') # ou cuda:0, cuda:1...\n",
    "plaquinha_fueba"
   ]
  },
  {
   "cell_type": "code",
   "execution_count": 14,
   "id": "0400fe65",
   "metadata": {},
   "outputs": [
    {
     "data": {
      "text/plain": [
       "device(type='cpu')"
      ]
     },
     "execution_count": 14,
     "metadata": {},
     "output_type": "execute_result"
    }
   ],
   "source": [
    "# foi criado por padrão na cpu\n",
    "tensor_pt.device"
   ]
  },
  {
   "cell_type": "code",
   "execution_count": 15,
   "id": "a9d94805",
   "metadata": {},
   "outputs": [
    {
     "data": {
      "text/plain": [
       "tensor([[1, 2],\n",
       "        [3, 4]], device='cuda:0', dtype=torch.int32)"
      ]
     },
     "execution_count": 15,
     "metadata": {},
     "output_type": "execute_result"
    }
   ],
   "source": [
    "tensor_pt = tensor_pt.to(plaquinha_fueba)\n",
    "tensor_pt"
   ]
  },
  {
   "cell_type": "code",
   "execution_count": 16,
   "id": "65cc21b3",
   "metadata": {},
   "outputs": [
    {
     "data": {
      "text/plain": [
       "device(type='cpu')"
      ]
     },
     "execution_count": 16,
     "metadata": {},
     "output_type": "execute_result"
    }
   ],
   "source": [
    "# Pra jogar de volta pra CPU\n",
    "cpu = torch.device('cpu')\n",
    "tensor_pt = tensor_pt.to(cpu)\n",
    "tensor_pt.device"
   ]
  },
  {
   "cell_type": "code",
   "execution_count": 17,
   "id": "908337bf",
   "metadata": {},
   "outputs": [
    {
     "data": {
      "text/plain": [
       "tensor([[1, 2],\n",
       "        [3, 4]], device='cuda:0', dtype=torch.int32)"
      ]
     },
     "execution_count": 17,
     "metadata": {},
     "output_type": "execute_result"
    }
   ],
   "source": [
    "tensor_pt = tensor_pt.cuda()\n",
    "tensor_pt"
   ]
  },
  {
   "cell_type": "code",
   "execution_count": 18,
   "id": "7997501b",
   "metadata": {},
   "outputs": [
    {
     "data": {
      "text/plain": [
       "tensor([0.0000, 0.0345, 0.0690, 0.1034, 0.1379, 0.1724, 0.2069, 0.2414, 0.2759,\n",
       "        0.3103, 0.3448, 0.3793, 0.4138, 0.4483, 0.4828, 0.5172, 0.5517, 0.5862,\n",
       "        0.6207, 0.6552, 0.6897, 0.7241, 0.7586, 0.7931, 0.8276, 0.8621, 0.8966,\n",
       "        0.9310, 0.9655, 1.0000], device='cuda:0', dtype=torch.float64)"
      ]
     },
     "execution_count": 18,
     "metadata": {},
     "output_type": "execute_result"
    }
   ],
   "source": [
    "novo_tensor = torch.tensor(np.linspace(0., 1., 30), device=plaquinha_fueba)\n",
    "novo_tensor"
   ]
  },
  {
   "cell_type": "markdown",
   "id": "2b797401",
   "metadata": {},
   "source": [
    "### <a> E o Autograd??? </a>"
   ]
  },
  {
   "cell_type": "code",
   "execution_count": 19,
   "id": "0ab1c307",
   "metadata": {},
   "outputs": [
    {
     "data": {
      "text/plain": [
       "(tensor(5.), tensor(6.))"
      ]
     },
     "execution_count": 19,
     "metadata": {},
     "output_type": "execute_result"
    }
   ],
   "source": [
    "horas_estudo = torch.tensor(5.) # pontinho pra dizer que queremos armazenar como float\n",
    "horas_happy_hour = torch.tensor(6.)\n",
    "\n",
    "horas_estudo, horas_happy_hour"
   ]
  },
  {
   "cell_type": "code",
   "execution_count": 20,
   "id": "92cd1057",
   "metadata": {},
   "outputs": [
    {
     "data": {
      "text/plain": [
       "(tensor(5., requires_grad=True), tensor(6., requires_grad=True))"
      ]
     },
     "execution_count": 20,
     "metadata": {},
     "output_type": "execute_result"
    }
   ],
   "source": [
    "# requires_grad informa que queremos calcular armazenar os gradientes para esse tensor\n",
    "# a partir dessa flag, tudo que fizermos de operações com esses tensores\n",
    "# será armazenado para fins de backpropagation\n",
    "horas_estudo = torch.tensor(5., requires_grad=True) \n",
    "horas_happy_hour = torch.tensor(6., requires_grad=True)\n",
    "\n",
    "horas_estudo, horas_happy_hour"
   ]
  },
  {
   "cell_type": "code",
   "execution_count": 21,
   "id": "709496a7",
   "metadata": {},
   "outputs": [],
   "source": [
    "nota_prova = horas_estudo ** 3 - horas_happy_hour ** 2"
   ]
  },
  {
   "cell_type": "code",
   "execution_count": 22,
   "id": "8a0c200e",
   "metadata": {},
   "outputs": [
    {
     "data": {
      "text/plain": [
       "tensor(89., grad_fn=<SubBackward0>)"
      ]
     },
     "execution_count": 22,
     "metadata": {},
     "output_type": "execute_result"
    }
   ],
   "source": [
    "nota_prova"
   ]
  },
  {
   "cell_type": "code",
   "execution_count": 23,
   "id": "55c40f0f",
   "metadata": {},
   "outputs": [
    {
     "data": {
      "text/plain": [
       "((<PowBackward0 at 0x2a7a3473988>, 0), (<PowBackward0 at 0x2a7a34737c8>, 0))"
      ]
     },
     "execution_count": 23,
     "metadata": {},
     "output_type": "execute_result"
    }
   ],
   "source": [
    "nota_prova.grad_fn.next_functions"
   ]
  },
  {
   "cell_type": "code",
   "execution_count": 24,
   "id": "8d4616e2",
   "metadata": {},
   "outputs": [
    {
     "data": {
      "text/plain": [
       "<PowBackward0 at 0x2a7a3473988>"
      ]
     },
     "execution_count": 24,
     "metadata": {},
     "output_type": "execute_result"
    }
   ],
   "source": [
    "nota_prova.grad_fn.next_functions[0][0]"
   ]
  },
  {
   "cell_type": "code",
   "execution_count": 25,
   "id": "0b952613",
   "metadata": {},
   "outputs": [
    {
     "data": {
      "text/plain": [
       "<PowBackward0 at 0x2a7a34737c8>"
      ]
     },
     "execution_count": 25,
     "metadata": {},
     "output_type": "execute_result"
    }
   ],
   "source": [
    "nota_prova.grad_fn.next_functions[1][0]"
   ]
  },
  {
   "cell_type": "code",
   "execution_count": 26,
   "id": "aab635a8",
   "metadata": {},
   "outputs": [
    {
     "data": {
      "text/plain": [
       "((<AccumulateGrad at 0x2a7a3457ac8>, 0),)"
      ]
     },
     "execution_count": 26,
     "metadata": {},
     "output_type": "execute_result"
    }
   ],
   "source": [
    "nota_prova.grad_fn.next_functions[0][0].next_functions"
   ]
  },
  {
   "cell_type": "code",
   "execution_count": 27,
   "id": "308ff9b3",
   "metadata": {},
   "outputs": [
    {
     "data": {
      "text/plain": [
       "((<AccumulateGrad at 0x2a7a344fa48>, 0),)"
      ]
     },
     "execution_count": 27,
     "metadata": {},
     "output_type": "execute_result"
    }
   ],
   "source": [
    "nota_prova.grad_fn.next_functions[1][0].next_functions"
   ]
  },
  {
   "cell_type": "code",
   "execution_count": 28,
   "id": "ce5d8dee",
   "metadata": {},
   "outputs": [
    {
     "data": {
      "text/plain": [
       "75"
      ]
     },
     "execution_count": 28,
     "metadata": {},
     "output_type": "execute_result"
    }
   ],
   "source": [
    "# Derivadas parciais: nota pelas horas de estudo\n",
    "# d nota/d estudo = 3 * horas_estudo ** 2\n",
    "3 * 5 ** 2"
   ]
  },
  {
   "cell_type": "code",
   "execution_count": 29,
   "id": "e72ad114",
   "metadata": {},
   "outputs": [
    {
     "data": {
      "text/plain": [
       "-12"
      ]
     },
     "execution_count": 29,
     "metadata": {},
     "output_type": "execute_result"
    }
   ],
   "source": [
    "# Derivadas parciais: nota pelas horas de cachaç... ops, happy hour\n",
    "# d nota/d cachaça = - 2 * horas_happy_hour ** 1\n",
    "-2 * 6"
   ]
  },
  {
   "cell_type": "code",
   "execution_count": 30,
   "id": "00d4f7ef",
   "metadata": {},
   "outputs": [
    {
     "data": {
      "text/plain": [
       "(None, None)"
      ]
     },
     "execution_count": 30,
     "metadata": {},
     "output_type": "execute_result"
    }
   ],
   "source": [
    "# Ainda não calculamos os gradientes com autograd\n",
    "horas_estudo.grad, horas_happy_hour.grad"
   ]
  },
  {
   "cell_type": "code",
   "execution_count": 31,
   "id": "0000cba6",
   "metadata": {},
   "outputs": [],
   "source": [
    "# Mágica do Autograd\n",
    "nota_prova.backward()"
   ]
  },
  {
   "cell_type": "code",
   "execution_count": 32,
   "id": "0555d357",
   "metadata": {},
   "outputs": [
    {
     "data": {
      "text/plain": [
       "(tensor(75.), tensor(-12.))"
      ]
     },
     "execution_count": 32,
     "metadata": {},
     "output_type": "execute_result"
    }
   ],
   "source": [
    "# Agora sim\n",
    "horas_estudo.grad, horas_happy_hour.grad"
   ]
  },
  {
   "cell_type": "code",
   "execution_count": null,
   "id": "b4239636",
   "metadata": {},
   "outputs": [],
   "source": []
  }
 ],
 "metadata": {
  "kernelspec": {
   "display_name": "Python 3 (ipykernel)",
   "language": "python",
   "name": "python3"
  },
  "language_info": {
   "codemirror_mode": {
    "name": "ipython",
    "version": 3
   },
   "file_extension": ".py",
   "mimetype": "text/x-python",
   "name": "python",
   "nbconvert_exporter": "python",
   "pygments_lexer": "ipython3",
   "version": "3.7.8"
  }
 },
 "nbformat": 4,
 "nbformat_minor": 5
}
